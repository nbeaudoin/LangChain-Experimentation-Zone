{
  "nbformat": 4,
  "nbformat_minor": 0,
  "metadata": {
    "colab": {
      "provenance": [],
      "authorship_tag": "ABX9TyMk12dBUOwFb2WCqQG9tc4l",
      "include_colab_link": true
    },
    "kernelspec": {
      "name": "python3",
      "display_name": "Python 3"
    },
    "language_info": {
      "name": "python"
    }
  },
  "cells": [
    {
      "cell_type": "markdown",
      "metadata": {
        "id": "view-in-github",
        "colab_type": "text"
      },
      "source": [
        "<a href=\"https://colab.research.google.com/github/nbeaudoin/LangChain-Experimentation-Zone/blob/main/ChatGPT_API_and_LangChain.ipynb\" target=\"_parent\"><img src=\"https://colab.research.google.com/assets/colab-badge.svg\" alt=\"Open In Colab\"/></a>"
      ]
    },
    {
      "cell_type": "code",
      "execution_count": 3,
      "metadata": {
        "colab": {
          "base_uri": "https://localhost:8080/"
        },
        "id": "eERxFnolPTe4",
        "outputId": "15487fd9-3b9a-4a94-e29c-3ea1f8e5ce2f"
      },
      "outputs": [
        {
          "output_type": "stream",
          "name": "stdout",
          "text": [
            "Requirement already satisfied: python-dotenv in /usr/local/lib/python3.10/dist-packages (1.0.0)\n",
            "Drive already mounted at /content/drive; to attempt to forcibly remount, call drive.mount(\"/content/drive\", force_remount=True).\n"
          ]
        }
      ],
      "source": [
        "!pip -q install openai langchain huggingface_hub\n",
        "!pip install python-dotenv\n",
        "\n",
        "# Mount Google Drive\n",
        "\n",
        "from google.colab import drive\n",
        "drive.mount('/content/drive')\n",
        "\n",
        "import os\n",
        "import openai\n",
        "from dotenv import load_dotenv\n",
        "\n",
        "# Load variables from .env file\n",
        "load_dotenv('/content/drive/MyDrive/secrets.json')\n",
        "\n",
        "# Use variables\n",
        "openai_api = os.getenv('OPENAI_API_KEY')\n",
        "huggingface_api = os.getenv('HUGGINGFACE_API_KEY')"
      ]
    },
    {
      "cell_type": "markdown",
      "source": [
        "# Basics with OpenAI API"
      ],
      "metadata": {
        "id": "bSPjfZJ1S-__"
      }
    },
    {
      "cell_type": "code",
      "source": [
        "response = openai.ChatCompletion.create(\n",
        "    model=\"gpt-3.5-turbo\",\n",
        "    messages=[\n",
        "        {\"role\": \"system\", \"content\": \"You are a helpful assistant.\"},\n",
        "        {\"role\": \"user\", \"content\": \"Hello what kind of assistant are you?\"}\n",
        "    ]\n",
        ")"
      ],
      "metadata": {
        "id": "CmmiiDXRPhSY"
      },
      "execution_count": 4,
      "outputs": []
    },
    {
      "cell_type": "code",
      "source": [
        "response"
      ],
      "metadata": {
        "colab": {
          "base_uri": "https://localhost:8080/"
        },
        "id": "f5TKBiufTeCv",
        "outputId": "8e2fa6bb-d6b3-4645-fdc4-a49814285afc"
      },
      "execution_count": 6,
      "outputs": [
        {
          "output_type": "execute_result",
          "data": {
            "text/plain": [
              "<OpenAIObject chat.completion id=chatcmpl-7z4MXNfRgHUUlHat2x8PLczTOv02x at 0x78b2d8ed1990> JSON: {\n",
              "  \"id\": \"chatcmpl-7z4MXNfRgHUUlHat2x8PLczTOv02x\",\n",
              "  \"object\": \"chat.completion\",\n",
              "  \"created\": 1694789133,\n",
              "  \"model\": \"gpt-3.5-turbo-0613\",\n",
              "  \"choices\": [\n",
              "    {\n",
              "      \"index\": 0,\n",
              "      \"message\": {\n",
              "        \"role\": \"assistant\",\n",
              "        \"content\": \"I am a virtual assistant designed to help with various tasks and provide information on a wide range of topics. How can I assist you today?\"\n",
              "      },\n",
              "      \"finish_reason\": \"stop\"\n",
              "    }\n",
              "  ],\n",
              "  \"usage\": {\n",
              "    \"prompt_tokens\": 25,\n",
              "    \"completion_tokens\": 28,\n",
              "    \"total_tokens\": 53\n",
              "  }\n",
              "}"
            ]
          },
          "metadata": {},
          "execution_count": 6
        }
      ]
    },
    {
      "cell_type": "code",
      "source": [
        "messages = [{\"role\": \"system\", \"content\": \"You are a helpful assistant named Kate.\"},\n",
        "            {\"role\": \"user\", \"content\": \"Hello what kind of assistant are you?\"}\n",
        "\n",
        "]"
      ],
      "metadata": {
        "id": "YeJhDBAnTfBI"
      },
      "execution_count": 7,
      "outputs": []
    },
    {
      "cell_type": "code",
      "source": [
        "conversation_total_tokens = 0\n",
        "\n",
        "while True:\n",
        "  message = input(\"Human: \")\n",
        "  if message == \"exit\":\n",
        "    print(f\"{conversation_total_tokens} tokens used in total in this conversation\")\n",
        "    break\n",
        "  if message:\n",
        "    messages.append(\n",
        "        {\"role\": \"user\", \"content\": message}\n",
        "    )\n",
        "    response = openai.Completion.create(\n",
        "    )"
      ],
      "metadata": {
        "id": "0KPLf7T6WWOg"
      },
      "execution_count": null,
      "outputs": []
    }
  ]
}