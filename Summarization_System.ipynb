{
  "nbformat": 4,
  "nbformat_minor": 0,
  "metadata": {
    "colab": {
      "provenance": [],
      "authorship_tag": "ABX9TyNsPFx6pxYOFzQHX4meiOCU",
      "include_colab_link": true
    },
    "kernelspec": {
      "name": "python3",
      "display_name": "Python 3"
    },
    "language_info": {
      "name": "python"
    }
  },
  "cells": [
    {
      "cell_type": "markdown",
      "metadata": {
        "id": "view-in-github",
        "colab_type": "text"
      },
      "source": [
        "<a href=\"https://colab.research.google.com/github/nbeaudoin/LangChain-Experimentation-Zone/blob/main/Summarization_System.ipynb\" target=\"_parent\"><img src=\"https://colab.research.google.com/assets/colab-badge.svg\" alt=\"Open In Colab\"/></a>"
      ]
    },
    {
      "cell_type": "markdown",
      "source": [
        "Tutorial source: https://www.youtube.com/watch?v=LNq_2s_H01Y&list=PL8motc6AQftk1Bs42EW45kwYbyJ4jOdiZ&index=8"
      ],
      "metadata": {
        "id": "Yy4KthYxbhzu"
      }
    },
    {
      "cell_type": "code",
      "execution_count": null,
      "metadata": {
        "id": "SjIfxMcFSR2V"
      },
      "outputs": [],
      "source": [
        "!pip -q install openai==0.27.0 langchain tiktoken python-dotenv"
      ]
    },
    {
      "cell_type": "code",
      "source": [
        "# Mount Google Drive\n",
        "from google.colab import drive\n",
        "drive.mount('/content/drive')"
      ],
      "metadata": {
        "colab": {
          "base_uri": "https://localhost:8080/"
        },
        "id": "M7ucmny1UE9M",
        "outputId": "6bc94299-b702-4f8f-b5b3-1108d1abcc6f"
      },
      "execution_count": null,
      "outputs": [
        {
          "output_type": "stream",
          "name": "stdout",
          "text": [
            "Mounted at /content/drive\n"
          ]
        }
      ]
    },
    {
      "cell_type": "code",
      "source": [
        "import os\n",
        "from dotenv import load_dotenv\n",
        "\n",
        "# Load variables from file\n",
        "load_dotenv('/content/drive/MyDrive/Projects/keys/secrets.json')\n",
        "\n",
        "# Use variables\n",
        "openai_api = os.getenv('OPENAI_API_KEY')"
      ],
      "metadata": {
        "id": "PKEEXI8qSVn7"
      },
      "execution_count": null,
      "outputs": []
    },
    {
      "cell_type": "markdown",
      "source": [
        "# Setting up Summarization Chain"
      ],
      "metadata": {
        "id": "Mj0nlQyhl41p"
      }
    },
    {
      "cell_type": "code",
      "source": [
        "from langchain import OpenAI, PromptTemplate, LLMChain\n",
        "from langchain.text_splitter import CharacterTextSplitter\n",
        "from langchain.chains.mapreduce import MapReduceChain\n",
        "from langchain.prompts import PromptTemplate\n",
        "\n",
        "llm = OpenAI(temperature=0)"
      ],
      "metadata": {
        "id": "cWUxGkjci-Z0"
      },
      "execution_count": null,
      "outputs": []
    },
    {
      "cell_type": "code",
      "source": [
        "text_splitter = CharacterTextSplitter()"
      ],
      "metadata": {
        "id": "PQ5zhyXFrRN2"
      },
      "execution_count": null,
      "outputs": []
    },
    {
      "cell_type": "code",
      "source": [
        "# load the doc\n",
        "with open('/content/drive/MyDrive/Projects/docs/alice_in_wonderland.txt') as f:\n",
        "  alice_in_wonderland = f.read()\n",
        "texts = text_splitter.split_text(alice_in_wonderland)"
      ],
      "metadata": {
        "id": "RLgrNklhmJOH"
      },
      "execution_count": null,
      "outputs": []
    },
    {
      "cell_type": "code",
      "source": [
        "len(texts)"
      ],
      "metadata": {
        "colab": {
          "base_uri": "https://localhost:8080/"
        },
        "id": "P2y0KHqws_Jf",
        "outputId": "01c0ec80-932d-4285-f518-bc07654a5bb5"
      },
      "execution_count": null,
      "outputs": [
        {
          "output_type": "execute_result",
          "data": {
            "text/plain": [
              "4"
            ]
          },
          "metadata": {},
          "execution_count": 11
        }
      ]
    },
    {
      "cell_type": "code",
      "source": [
        "from langchain.docstore.document import Document\n",
        "\n",
        "docs = [Document(page_content=t) for t in texts]"
      ],
      "metadata": {
        "id": "mSEKUJdttwsN"
      },
      "execution_count": null,
      "outputs": []
    },
    {
      "cell_type": "markdown",
      "source": [
        "# Summarize with simple MapReduce"
      ],
      "metadata": {
        "id": "Rk_Ojk6dvCe9"
      }
    },
    {
      "cell_type": "code",
      "source": [
        "from langchain.chains.summarize import load_summarize_chain\n",
        "import textwrap"
      ],
      "metadata": {
        "id": "jJZP6vfVulVB"
      },
      "execution_count": null,
      "outputs": []
    },
    {
      "cell_type": "code",
      "source": [
        "chain = load_summarize_chain(llm,\n",
        "                             chain_type=\"map_reduce\")\n",
        "\n",
        "output_summary = chain.run(docs)\n",
        "wrapped_text = textwrap.fill(output_summary, width=100)\n",
        "print(wrapped_text)"
      ],
      "metadata": {
        "colab": {
          "base_uri": "https://localhost:8080/"
        },
        "id": "EuLQNptUul8d",
        "outputId": "830cccb2-f26a-4826-e2bf-656b5b92dd42"
      },
      "execution_count": null,
      "outputs": [
        {
          "output_type": "stream",
          "name": "stdout",
          "text": [
            " Alice follows a white rabbit down a rabbit hole and falls into a deep well. She finds a tiny golden\n",
            "key that fits a small door leading to a beautiful garden, but she is unable to fit through the door.\n",
            "She drinks a bottle labeled \"DRINK ME\" and shrinks to ten inches tall, but is unable to reach the\n",
            "key. She then eats a box labeled \"EAT ME\" and remains the same size, allowing her to enter the\n",
            "garden.\n"
          ]
        }
      ]
    },
    {
      "cell_type": "code",
      "source": [
        "# for summarizing each part\n",
        "chain.llm_chain.prompt.template"
      ],
      "metadata": {
        "id": "qB3PrHSCv5W5",
        "colab": {
          "base_uri": "https://localhost:8080/",
          "height": 36
        },
        "outputId": "b68b580f-7527-4e02-b336-15ae3d48a7ba"
      },
      "execution_count": null,
      "outputs": [
        {
          "output_type": "execute_result",
          "data": {
            "text/plain": [
              "'Write a concise summary of the following:\\n\\n\\n\"{text}\"\\n\\n\\nCONCISE SUMMARY:'"
            ],
            "application/vnd.google.colaboratory.intrinsic+json": {
              "type": "string"
            }
          },
          "metadata": {},
          "execution_count": 15
        }
      ]
    },
    {
      "cell_type": "code",
      "source": [
        "# for combining the parts\n",
        "chain.combine_document_chain.llm_chain.prompt.template"
      ],
      "metadata": {
        "colab": {
          "base_uri": "https://localhost:8080/",
          "height": 36
        },
        "id": "0jNcZfwRHSOb",
        "outputId": "8e4ab002-de36-4043-e491-7b5c89bd2eeb"
      },
      "execution_count": null,
      "outputs": [
        {
          "output_type": "execute_result",
          "data": {
            "text/plain": [
              "'Write a concise summary of the following:\\n\\n\\n\"{text}\"\\n\\n\\nCONCISE SUMMARY:'"
            ],
            "application/vnd.google.colaboratory.intrinsic+json": {
              "type": "string"
            }
          },
          "metadata": {},
          "execution_count": 17
        }
      ]
    },
    {
      "cell_type": "code",
      "source": [
        "chain = load_summarize_chain(llm,\n",
        "                             chain_type=\"map_reduce\",\n",
        "                             verbose=True)\n",
        "\n",
        "output_summary = chain.run(docs)\n",
        "wrapped_text = textwrap.fill(output_summary,\n",
        "                             width=100,\n",
        "                             break_long_words=False,\n",
        "                             replace_whitespace=False)\n",
        "\n",
        "print(wrapped_text)"
      ],
      "metadata": {
        "colab": {
          "base_uri": "https://localhost:8080/"
        },
        "id": "0D2yIkJzHg7S",
        "outputId": "f18fdaed-b0c6-4075-ecda-ee47aebb48da"
      },
      "execution_count": null,
      "outputs": [
        {
          "output_type": "stream",
          "name": "stdout",
          "text": [
            "\n",
            "\n",
            "\u001b[1m> Entering new MapReduceDocumentsChain chain...\u001b[0m\n",
            "\n",
            "\n",
            "\u001b[1m> Entering new LLMChain chain...\u001b[0m\n",
            "Prompt after formatting:\n",
            "\u001b[32;1m\u001b[1;3mWrite a concise summary of the following:\n",
            "\n",
            "\n",
            "\"CHAPTER I.\n",
            "Down the Rabbit-Hole\n",
            "\n",
            "\n",
            "Alice was beginning to get very tired of sitting by her sister on the\n",
            "bank, and of having nothing to do: once or twice she had peeped into\n",
            "the book her sister was reading, but it had no pictures or\n",
            "conversations in it, “and what is the use of a book,” thought Alice\n",
            "“without pictures or conversations?”\n",
            "\n",
            "So she was considering in her own mind (as well as she could, for the\n",
            "hot day made her feel very sleepy and stupid), whether the pleasure of\n",
            "making a daisy-chain would be worth the trouble of getting up and\n",
            "picking the daisies, when suddenly a White Rabbit with pink eyes ran\n",
            "close by her.\n",
            "\n",
            "There was nothing so _very_ remarkable in that; nor did Alice think it\n",
            "so _very_ much out of the way to hear the Rabbit say to itself, “Oh\n",
            "dear! Oh dear! I shall be late!” (when she thought it over afterwards,\n",
            "it occurred to her that she ought to have wondered at this, but at the\n",
            "time it all seemed quite natural); but when the Rabbit actually _took a\n",
            "watch out of its waistcoat-pocket_, and looked at it, and then hurried\n",
            "on, Alice started to her feet, for it flashed across her mind that she\n",
            "had never before seen a rabbit with either a waistcoat-pocket, or a\n",
            "watch to take out of it, and burning with curiosity, she ran across the\n",
            "field after it, and fortunately was just in time to see it pop down a\n",
            "large rabbit-hole under the hedge.\n",
            "\n",
            "In another moment down went Alice after it, never once considering how\n",
            "in the world she was to get out again.\n",
            "\n",
            "The rabbit-hole went straight on like a tunnel for some way, and then\n",
            "dipped suddenly down, so suddenly that Alice had not a moment to think\n",
            "about stopping herself before she found herself falling down a very\n",
            "deep well.\n",
            "\n",
            "Either the well was very deep, or she fell very slowly, for she had\n",
            "plenty of time as she went down to look about her and to wonder what\n",
            "was going to happen next. First, she tried to look down and make out\n",
            "what she was coming to, but it was too dark to see anything; then she\n",
            "looked at the sides of the well, and noticed that they were filled with\n",
            "cupboards and book-shelves; here and there she saw maps and pictures\n",
            "hung upon pegs. She took down a jar from one of the shelves as she\n",
            "passed; it was labelled “ORANGE MARMALADE”, but to her great\n",
            "disappointment it was empty: she did not like to drop the jar for fear\n",
            "of killing somebody underneath, so managed to put it into one of the\n",
            "cupboards as she fell past it.\n",
            "\n",
            "“Well!” thought Alice to herself, “after such a fall as this, I shall\n",
            "think nothing of tumbling down stairs! How brave they’ll all think me\n",
            "at home! Why, I wouldn’t say anything about it, even if I fell off the\n",
            "top of the house!” (Which was very likely true.)\n",
            "\n",
            "Down, down, down. Would the fall _never_ come to an end? “I wonder how\n",
            "many miles I’ve fallen by this time?” she said aloud. “I must be\n",
            "getting somewhere near the centre of the earth. Let me see: that would\n",
            "be four thousand miles down, I think—” (for, you see, Alice had learnt\n",
            "several things of this sort in her lessons in the schoolroom, and\n",
            "though this was not a _very_ good opportunity for showing off her\n",
            "knowledge, as there was no one to listen to her, still it was good\n",
            "practice to say it over) “—yes, that’s about the right distance—but\n",
            "then I wonder what Latitude or Longitude I’ve got to?” (Alice had no\n",
            "idea what Latitude was, or Longitude either, but thought they were nice\n",
            "grand words to say.)\"\n",
            "\n",
            "\n",
            "CONCISE SUMMARY:\u001b[0m\n",
            "Prompt after formatting:\n",
            "\u001b[32;1m\u001b[1;3mWrite a concise summary of the following:\n",
            "\n",
            "\n",
            "\"Presently she began again. “I wonder if I shall fall right _through_\n",
            "the earth! How funny it’ll seem to come out among the people that walk\n",
            "with their heads downward! The Antipathies, I think—” (she was rather\n",
            "glad there _was_ no one listening, this time, as it didn’t sound at all\n",
            "the right word) “—but I shall have to ask them what the name of the\n",
            "country is, you know. Please, Ma’am, is this New Zealand or Australia?”\n",
            "(and she tried to curtsey as she spoke—fancy _curtseying_ as you’re\n",
            "falling through the air! Do you think you could manage it?) “And what\n",
            "an ignorant little girl she’ll think me for asking! No, it’ll never do\n",
            "to ask: perhaps I shall see it written up somewhere.”\n",
            "\n",
            "Down, down, down. There was nothing else to do, so Alice soon began\n",
            "talking again. “Dinah’ll miss me very much to-night, I should think!”\n",
            "(Dinah was the cat.) “I hope they’ll remember her saucer of milk at\n",
            "tea-time. Dinah my dear! I wish you were down here with me! There are\n",
            "no mice in the air, I’m afraid, but you might catch a bat, and that’s\n",
            "very like a mouse, you know. But do cats eat bats, I wonder?” And here\n",
            "Alice began to get rather sleepy, and went on saying to herself, in a\n",
            "dreamy sort of way, “Do cats eat bats? Do cats eat bats?” and\n",
            "sometimes, “Do bats eat cats?” for, you see, as she couldn’t answer\n",
            "either question, it didn’t much matter which way she put it. She felt\n",
            "that she was dozing off, and had just begun to dream that she was\n",
            "walking hand in hand with Dinah, and saying to her very earnestly,\n",
            "“Now, Dinah, tell me the truth: did you ever eat a bat?” when suddenly,\n",
            "thump! thump! down she came upon a heap of sticks and dry leaves, and\n",
            "the fall was over.\n",
            "\n",
            "Alice was not a bit hurt, and she jumped up on to her feet in a moment:\n",
            "she looked up, but it was all dark overhead; before her was another\n",
            "long passage, and the White Rabbit was still in sight, hurrying down\n",
            "it. There was not a moment to be lost: away went Alice like the wind,\n",
            "and was just in time to hear it say, as it turned a corner, “Oh my ears\n",
            "and whiskers, how late it’s getting!” She was close behind it when she\n",
            "turned the corner, but the Rabbit was no longer to be seen: she found\n",
            "herself in a long, low hall, which was lit up by a row of lamps hanging\n",
            "from the roof.\n",
            "\n",
            "There were doors all round the hall, but they were all locked; and when\n",
            "Alice had been all the way down one side and up the other, trying every\n",
            "door, she walked sadly down the middle, wondering how she was ever to\n",
            "get out again.\n",
            "\n",
            "Suddenly she came upon a little three-legged table, all made of solid\n",
            "glass; there was nothing on it except a tiny golden key, and Alice’s\n",
            "first thought was that it might belong to one of the doors of the hall;\n",
            "but, alas! either the locks were too large, or the key was too small,\n",
            "but at any rate it would not open any of them. However, on the second\n",
            "time round, she came upon a low curtain she had not noticed before, and\n",
            "behind it was a little door about fifteen inches high: she tried the\n",
            "little golden key in the lock, and to her great delight it fitted!\n",
            "\n",
            "Alice opened the door and found that it led into a small passage, not\n",
            "much larger than a rat-hole: she knelt down and looked along the\n",
            "passage into the loveliest garden you ever saw. How she longed to get\n",
            "out of that dark hall, and wander about among those beds of bright\n",
            "flowers and those cool fountains, but she could not even get her head\n",
            "through the doorway; “and even if my head would go through,” thought\n",
            "poor Alice, “it would be of very little use without my shoulders. Oh,\n",
            "how I wish I could shut up like a telescope! I think I could, if I only\n",
            "knew how to begin.” For, you see, so many out-of-the-way things had\n",
            "happened lately, that Alice had begun to think that very few things\n",
            "indeed were really impossible.\"\n",
            "\n",
            "\n",
            "CONCISE SUMMARY:\u001b[0m\n",
            "Prompt after formatting:\n",
            "\u001b[32;1m\u001b[1;3mWrite a concise summary of the following:\n",
            "\n",
            "\n",
            "\"There seemed to be no use in waiting by the little door, so she went\n",
            "back to the table, half hoping she might find another key on it, or at\n",
            "any rate a book of rules for shutting people up like telescopes: this\n",
            "time she found a little bottle on it, (“which certainly was not here\n",
            "before,” said Alice,) and round the neck of the bottle was a paper\n",
            "label, with the words “DRINK ME,” beautifully printed on it in large\n",
            "letters.\n",
            "\n",
            "It was all very well to say “Drink me,” but the wise little Alice was\n",
            "not going to do _that_ in a hurry. “No, I’ll look first,” she said,\n",
            "“and see whether it’s marked ‘_poison_’ or not”; for she had read\n",
            "several nice little histories about children who had got burnt, and\n",
            "eaten up by wild beasts and other unpleasant things, all because they\n",
            "_would_ not remember the simple rules their friends had taught them:\n",
            "such as, that a red-hot poker will burn you if you hold it too long;\n",
            "and that if you cut your finger _very_ deeply with a knife, it usually\n",
            "bleeds; and she had never forgotten that, if you drink much from a\n",
            "bottle marked “poison,” it is almost certain to disagree with you,\n",
            "sooner or later.\n",
            "\n",
            "However, this bottle was _not_ marked “poison,” so Alice ventured to\n",
            "taste it, and finding it very nice, (it had, in fact, a sort of mixed\n",
            "flavour of cherry-tart, custard, pine-apple, roast turkey, toffee, and\n",
            "hot buttered toast,) she very soon finished it off.\n",
            "\n",
            "*      *      *      *      *      *      *\n",
            "\n",
            "    *      *      *      *      *      *\n",
            "\n",
            "*      *      *      *      *      *      *\n",
            "\n",
            "\n",
            "“What a curious feeling!” said Alice; “I must be shutting up like a\n",
            "telescope.”\n",
            "\n",
            "And so it was indeed: she was now only ten inches high, and her face\n",
            "brightened up at the thought that she was now the right size for going\n",
            "through the little door into that lovely garden. First, however, she\n",
            "waited for a few minutes to see if she was going to shrink any further:\n",
            "she felt a little nervous about this; “for it might end, you know,”\n",
            "said Alice to herself, “in my going out altogether, like a candle. I\n",
            "wonder what I should be like then?” And she tried to fancy what the\n",
            "flame of a candle is like after the candle is blown out, for she could\n",
            "not remember ever having seen such a thing.\n",
            "\n",
            "After a while, finding that nothing more happened, she decided on going\n",
            "into the garden at once; but, alas for poor Alice! when she got to the\n",
            "door, she found she had forgotten the little golden key, and when she\n",
            "went back to the table for it, she found she could not possibly reach\n",
            "it: she could see it quite plainly through the glass, and she tried her\n",
            "best to climb up one of the legs of the table, but it was too slippery;\n",
            "and when she had tired herself out with trying, the poor little thing\n",
            "sat down and cried.\n",
            "\n",
            "“Come, there’s no use in crying like that!” said Alice to herself,\n",
            "rather sharply; “I advise you to leave off this minute!” She generally\n",
            "gave herself very good advice, (though she very seldom followed it),\n",
            "and sometimes she scolded herself so severely as to bring tears into\n",
            "her eyes; and once she remembered trying to box her own ears for having\n",
            "cheated herself in a game of croquet she was playing against herself,\n",
            "for this curious child was very fond of pretending to be two people.\n",
            "“But it’s no use now,” thought poor Alice, “to pretend to be two\n",
            "people! Why, there’s hardly enough of me left to make _one_ respectable\n",
            "person!”\n",
            "\n",
            "Soon her eye fell on a little glass box that was lying under the table:\n",
            "she opened it, and found in it a very small cake, on which the words\n",
            "“EAT ME” were beautifully marked in currants. “Well, I’ll eat it,” said\n",
            "Alice, “and if it makes me grow larger, I can reach the key; and if it\n",
            "makes me grow smaller, I can creep under the door; so either way I’ll\n",
            "get into the garden, and I don’t care which happens!”\"\n",
            "\n",
            "\n",
            "CONCISE SUMMARY:\u001b[0m\n",
            "Prompt after formatting:\n",
            "\u001b[32;1m\u001b[1;3mWrite a concise summary of the following:\n",
            "\n",
            "\n",
            "\"She ate a little bit, and said anxiously to herself, “Which way? Which\n",
            "way?”, holding her hand on the top of her head to feel which way it was\n",
            "growing, and she was quite surprised to find that she remained the same\n",
            "size: to be sure, this generally happens when one eats cake, but Alice\n",
            "had got so much into the way of expecting nothing but out-of-the-way\n",
            "things to happen, that it seemed quite dull and stupid for life to go\n",
            "on in the common way.\n",
            "\n",
            "So she set to work, and very soon finished off the cake.\n",
            "\n",
            "*      *      *      *      *      *      *\n",
            "\n",
            "    *      *      *      *      *      *\n",
            "\n",
            "*      *      *      *      *      *      *\"\n",
            "\n",
            "\n",
            "CONCISE SUMMARY:\u001b[0m\n",
            "\n",
            "\u001b[1m> Finished chain.\u001b[0m\n",
            "\n",
            "\n",
            "\u001b[1m> Entering new LLMChain chain...\u001b[0m\n",
            "Prompt after formatting:\n",
            "\u001b[32;1m\u001b[1;3mWrite a concise summary of the following:\n",
            "\n",
            "\n",
            "\" Alice is bored and daydreaming when she sees a white rabbit with a pocket watch. She follows it down a rabbit hole and falls into a deep well. She passes shelves and cupboards as she falls and takes a jar of marmalade. She wonders how far she has fallen and if she will ever reach the bottom.\n",
            "\n",
            " Alice falls down a rabbit hole and finds herself in a dark hall with many locked doors. She finds a tiny golden key that fits a small door leading to a beautiful garden, but she is unable to fit through the door. She wishes she could shrink down to fit through the door and explore the garden.\n",
            "\n",
            " Alice finds a bottle with the words \"DRINK ME\" on it and decides to taste it, finding it to have a mixed flavor of cherry-tart, custard, pine-apple, roast turkey, toffee, and hot buttered toast. After drinking it, she shrinks to ten inches tall and is unable to reach the key to the garden. She then finds a box with the words \"EAT ME\" on it and decides to eat it, not knowing if it will make her grow larger or smaller.\n",
            "\n",
            " Alice eats some cake and is surprised to find that she remains the same size. She then sets to work and quickly finishes the cake.\"\n",
            "\n",
            "\n",
            "CONCISE SUMMARY:\u001b[0m\n",
            "\n",
            "\u001b[1m> Finished chain.\u001b[0m\n",
            "\n",
            "\u001b[1m> Finished chain.\u001b[0m\n",
            " Alice follows a white rabbit down a rabbit hole and falls into a deep well. She finds a tiny golden\n",
            "key that fits a small door leading to a beautiful garden, but she is unable to fit through the door.\n",
            "She drinks from a bottle labeled \"DRINK ME\" and shrinks to ten inches tall, but is still unable to\n",
            "reach the key. She then eats a cake labeled \"EAT ME\" and remains the same size.\n"
          ]
        }
      ]
    },
    {
      "cell_type": "markdown",
      "source": [
        "# Summarizing with the \"stuff\" chain\n",
        "\n",
        "\n",
        "\n",
        "*   Only makes one API call\n",
        "*   Can't use with multiple pieces of data\n",
        "\n",
        "\n",
        "\n"
      ],
      "metadata": {
        "id": "_JTRn3KWI6MN"
      }
    },
    {
      "cell_type": "code",
      "source": [
        "chain = load_summarize_chain(llm, chain_type=\"stuff\")"
      ],
      "metadata": {
        "id": "J12xgMCmH7I7"
      },
      "execution_count": null,
      "outputs": []
    },
    {
      "cell_type": "code",
      "source": [
        "prompt_template = \"\"\" Write a concise bullet point summary of the following:\n",
        "\n",
        "{text}\n",
        "\n",
        "CONSCISE SUMMARY IN BULLET POINTS:\"\"\"\n",
        "\n",
        "BULLET_POINT_PROMPT = PromptTemplate(template=prompt_template,\n",
        "                                     input_variables=[\"text\"])\n",
        "\n",
        "BULLET_POINT_PROMPT"
      ],
      "metadata": {
        "colab": {
          "base_uri": "https://localhost:8080/"
        },
        "id": "q6A8AOFKJjA1",
        "outputId": "4fe19279-12d7-4df7-eee8-8fa888c3a083"
      },
      "execution_count": null,
      "outputs": [
        {
          "output_type": "execute_result",
          "data": {
            "text/plain": [
              "PromptTemplate(input_variables=['text'], template=' Write a concise bullet point summary of the following:\\n\\n{text}\\n\\nCONSCISE SUMMARY IN BULLET POINTS:')"
            ]
          },
          "metadata": {},
          "execution_count": 23
        }
      ]
    },
    {
      "cell_type": "code",
      "source": [
        "chain = load_summarize_chain(llm,\n",
        "                             chain_type=\"stuff\",\n",
        "                             prompt=BULLET_POINT_PROMPT)\n",
        "\n",
        "output_summary = chain.run(docs)\n",
        "\n",
        "output_summary"
      ],
      "metadata": {
        "colab": {
          "base_uri": "https://localhost:8080/",
          "height": 105
        },
        "id": "Mz6tTrKEKVNI",
        "outputId": "e24ec023-8354-49b1-9e5b-15421e2bd3b7"
      },
      "execution_count": null,
      "outputs": [
        {
          "output_type": "execute_result",
          "data": {
            "text/plain": [
              "'\\n- Alice is bored and begins to consider making a daisy-chain when a White Rabbit with pink eyes runs by\\n- Alice follows the Rabbit down a rabbit-hole and falls down a deep well\\n- Alice finds herself in a long, low hall with doors all around, but they are all locked\\n- Alice finds a little three-legged table with a tiny golden key and a bottle labelled “DRINK ME”\\n- Alice drinks from the bottle and shrinks to the right size to fit through the little door into a beautiful garden\\n- Alice finds a little glass box with a cake labelled “EAT ME” and eats it, but remains the same size'"
            ],
            "application/vnd.google.colaboratory.intrinsic+json": {
              "type": "string"
            }
          },
          "metadata": {},
          "execution_count": 24
        }
      ]
    },
    {
      "cell_type": "code",
      "source": [
        "wrapped_text = textwrap.fill(output_summary,\n",
        "                             width=100,\n",
        "                             break_long_words = False,\n",
        "                             replace_whitespace=False)\n",
        "\n",
        "print(wrapped_text)"
      ],
      "metadata": {
        "colab": {
          "base_uri": "https://localhost:8080/"
        },
        "id": "t8-OyjmELAsd",
        "outputId": "6a344ca8-c52a-466c-9674-80f93810a899"
      },
      "execution_count": null,
      "outputs": [
        {
          "output_type": "stream",
          "name": "stdout",
          "text": [
            "\n",
            "- Alice is bored and begins to consider making a daisy-chain when a White Rabbit with pink eyes\n",
            "runs by\n",
            "- Alice follows the Rabbit down a rabbit-hole and falls down a deep well\n",
            "- Alice finds\n",
            "herself in a long, low hall with doors all around, but they are all locked\n",
            "- Alice finds a little\n",
            "three-legged table with a tiny golden key and a bottle labelled “DRINK ME”\n",
            "- Alice drinks from the\n",
            "bottle and shrinks to the right size to fit through the little door into a beautiful garden\n",
            "- Alice\n",
            "finds a little glass box with a cake labelled “EAT ME” and eats it, but remains the same size\n"
          ]
        }
      ]
    },
    {
      "cell_type": "markdown",
      "source": [
        "# Using \"map reduce\" with custom prompts"
      ],
      "metadata": {
        "id": "DnfDdQjiOXW8"
      }
    },
    {
      "cell_type": "code",
      "source": [
        "chain = load_summarize_chain(llm,\n",
        "                             chain_type=\"map_reduce\",\n",
        "                             map_prompt=BULLET_POINT_PROMPT,\n",
        "                             combine_prompt=BULLET_POINT_PROMPT)\n",
        "\n",
        "output_summary = chain.run(docs)\n",
        "wrapped_text = textwrap.fill(output_summary,\n",
        "                              width=100,\n",
        "                              break_long_words=False,\n",
        "                              replace_whitespace=False)\n",
        "\n",
        "print(wrapped_text)"
      ],
      "metadata": {
        "colab": {
          "base_uri": "https://localhost:8080/"
        },
        "id": "bA-6cS24MkM5",
        "outputId": "6a85eeaa-c2c4-460d-ba3d-7eafa0375732"
      },
      "execution_count": null,
      "outputs": [
        {
          "output_type": "stream",
          "name": "stdout",
          "text": [
            "\n",
            "* Alice considers making a daisy-chain and follows a White Rabbit with pink eyes down a rabbit-hole\n",
            "* She falls down a deep well and finds cupboards and book-shelves\n",
            "* Alice finds a bottle with the\n",
            "words \"DRINK ME\" printed on it and shrinks to 10 inches tall\n",
            "* She then finds a small cake with the\n",
            "words \"EAT ME\" printed on it and eats it, but remains the same size\n"
          ]
        }
      ]
    },
    {
      "cell_type": "code",
      "source": [
        "# with a custom prompt\n",
        "prompt_template = \"\"\" Write a concise bullet point summary of the following:\n",
        "\n",
        "{text}\n",
        "\n",
        "CONSCISE SUMMARY IN BULLET POINTS:\"\"\"\n",
        "\n",
        "PROMPT = PromptTemplate(template=prompt_template,\n",
        "                                     input_variables=[\"text\"])\n",
        "\n",
        "# with intermediate steps\n",
        "chain = load_summarize_chain(OpenAI(temperature=0),\n",
        "                             chain_type=\"map_reduce\",\n",
        "                             return_intermediate_steps=True,\n",
        "                             map_prompt=PROMPT,\n",
        "                             combine_prompt=PROMPT)\n",
        "\n",
        "output_summary = chain({\"input_documents\": docs}, return_only_outputs=True)\n",
        "wrapped_text = textwrap.fill(output_summary[\"output_text\"],\n",
        "                                            width=100,\n",
        "                                            break_long_words=False,\n",
        "                                            replace_whitespace=False)\n",
        "\n",
        "print(wrapped_text)"
      ],
      "metadata": {
        "colab": {
          "base_uri": "https://localhost:8080/"
        },
        "id": "KAk4UpuVO8S7",
        "outputId": "a6a957a1-994e-46f2-de9b-636a277a600c"
      },
      "execution_count": null,
      "outputs": [
        {
          "output_type": "stream",
          "name": "stdout",
          "text": [
            "\n",
            "* Alice considers making a daisy-chain and follows a White Rabbit with pink eyes down a rabbit-hole\n",
            "* She falls down a deep well and finds cupboards and book-shelves\n",
            "* Alice finds a bottle with the\n",
            "words \"DRINK ME\" printed on it and shrinks to 10 inches tall\n",
            "* She then finds a small cake with the\n",
            "words \"EAT ME\" printed on it and eats it, but remains the same size\n"
          ]
        }
      ]
    },
    {
      "cell_type": "code",
      "source": [
        "# Using intermediate steps\n",
        "wrapped_text = textwrap.fill(output_summary[\"intermediate_steps\"][2],\n",
        "                                            width=100,\n",
        "                                            break_long_words=False,\n",
        "                                            replace_whitespace=False)\n",
        "\n",
        "print(wrapped_text)"
      ],
      "metadata": {
        "colab": {
          "base_uri": "https://localhost:8080/"
        },
        "id": "nv6hod5kYwwi",
        "outputId": "ea020d9e-b5b5-43b6-c6d4-137784047c10"
      },
      "execution_count": null,
      "outputs": [
        {
          "output_type": "stream",
          "name": "stdout",
          "text": [
            "\n",
            "\n",
            "* Alice finds a bottle with the words \"DRINK ME\" printed on it\n",
            "* She decides to look for a\n",
            "\"poison\" label before drinking it\n",
            "* The bottle has a mixed flavour of cherry-tart, custard, pine-\n",
            "apple, roast turkey, toffee, and hot buttered toast\n",
            "* After drinking it, Alice shrinks to 10 inches\n",
            "tall\n",
            "* She then finds a small cake with the words \"EAT ME\" printed on it\n",
            "* Alice decides to eat the\n",
            "cake, hoping it will make her grow larger or smaller so she can reach the key or fit through the\n",
            "door to the garden\n"
          ]
        }
      ]
    },
    {
      "cell_type": "markdown",
      "source": [
        "# With the \"refine\" CombineDocument Chain\n",
        "\n",
        "\n",
        "*   Better responses\n",
        "*   More API calls, cannot be paralleled since not independent\n",
        "\n"
      ],
      "metadata": {
        "id": "d393b9i1ctvH"
      }
    },
    {
      "cell_type": "code",
      "source": [
        "chain = load_summarize_chain(llm, chain_type=\"refine\")\n",
        "\n",
        "output_summary = chain.run(docs)\n",
        "wrapped_text = textwrap.fill(output_summary, width=100)\n",
        "print(wrapped_text)"
      ],
      "metadata": {
        "colab": {
          "base_uri": "https://localhost:8080/"
        },
        "id": "bi5hP0g1cUKP",
        "outputId": "b86678b4-3adb-4c83-ca00-c7ebca048f80"
      },
      "execution_count": null,
      "outputs": [
        {
          "output_type": "stream",
          "name": "stdout",
          "text": [
            "  Alice is bored and daydreaming when she sees a white rabbit with a pocket watch. She follows it\n",
            "down a rabbit hole and falls into a deep well, passing shelves and cupboards as she falls and taking\n",
            "a jar of marmalade. She wonders how far she has fallen and if she will ever reach the bottom. Alice\n",
            "continues to fall and talks to herself, eventually coming upon a little three-legged table with a\n",
            "tiny golden key on it. She uses the key to open a small door leading to a beautiful garden, but she\n",
            "is unable to fit through the doorway. Alice begins to think that anything is possible and wonders if\n",
            "she can somehow shrink herself to fit through the door. She finds a bottle with the words \"DRINK ME\"\n",
            "printed on it and drinks it, shrinking to a height of ten inches. She finds a small cake with the\n",
            "words \"EAT ME\" printed on it and eats it, growing to a height that allows her to fit through the\n",
            "door and enter the garden. After eating a bit of the cake, Alice finds that she remains the same\n",
            "size, so she eats the rest of the cake and grows to a height that allows her to fit through the door\n",
            "and enter the garden.\n"
          ]
        }
      ]
    },
    {
      "cell_type": "code",
      "source": [],
      "metadata": {
        "id": "0EtYYk736QXs"
      },
      "execution_count": null,
      "outputs": []
    }
  ]
}