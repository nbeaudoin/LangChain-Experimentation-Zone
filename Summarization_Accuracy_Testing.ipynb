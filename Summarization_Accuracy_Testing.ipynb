{
  "nbformat": 4,
  "nbformat_minor": 0,
  "metadata": {
    "colab": {
      "provenance": [],
      "authorship_tag": "ABX9TyOEYbgqUj1Kkun0BbxOFPsq",
      "include_colab_link": true
    },
    "kernelspec": {
      "name": "python3",
      "display_name": "Python 3"
    },
    "language_info": {
      "name": "python"
    }
  },
  "cells": [
    {
      "cell_type": "markdown",
      "metadata": {
        "id": "view-in-github",
        "colab_type": "text"
      },
      "source": [
        "<a href=\"https://colab.research.google.com/github/nbeaudoin/LangChain-Experimentation-Zone/blob/main/Summarization_Accuracy_Testing.ipynb\" target=\"_parent\"><img src=\"https://colab.research.google.com/assets/colab-badge.svg\" alt=\"Open In Colab\"/></a>"
      ]
    },
    {
      "cell_type": "code",
      "execution_count": null,
      "metadata": {
        "id": "PLe_7iAICMn9"
      },
      "outputs": [],
      "source": []
    },
    {
      "cell_type": "markdown",
      "source": [
        "Tutorial source: https://www.youtube.com/watch?v=d-yeHDLgKHw&list=PL8motc6AQftk1Bs42EW45kwYbyJ4jOdiZ&index=9\n"
      ],
      "metadata": {
        "id": "o1LCnjMECOCC"
      }
    },
    {
      "cell_type": "code",
      "source": [
        "!pip -q install openai==0.27.0 langchain huggingface_hub python-dotenv"
      ],
      "metadata": {
        "colab": {
          "base_uri": "https://localhost:8080/"
        },
        "id": "vHewVdYaCOsO",
        "outputId": "f7b4847e-9604-4ce5-e038-eb2342c9ea67"
      },
      "execution_count": 1,
      "outputs": [
        {
          "output_type": "stream",
          "name": "stdout",
          "text": [
            "\u001b[2K     \u001b[90m━━━━━━━━━━━━━━━━━━━━━━━━━━━━━━━━━━━━━━━━\u001b[0m \u001b[32m70.1/70.1 kB\u001b[0m \u001b[31m2.2 MB/s\u001b[0m eta \u001b[36m0:00:00\u001b[0m\n",
            "\u001b[2K     \u001b[90m━━━━━━━━━━━━━━━━━━━━━━━━━━━━━━━━━━━━━━━━\u001b[0m \u001b[32m1.9/1.9 MB\u001b[0m \u001b[31m14.2 MB/s\u001b[0m eta \u001b[36m0:00:00\u001b[0m\n",
            "\u001b[2K     \u001b[90m━━━━━━━━━━━━━━━━━━━━━━━━━━━━━━━━━━━━━━━━\u001b[0m \u001b[32m2.0/2.0 MB\u001b[0m \u001b[31m25.9 MB/s\u001b[0m eta \u001b[36m0:00:00\u001b[0m\n",
            "\u001b[2K     \u001b[90m━━━━━━━━━━━━━━━━━━━━━━━━━━━━━━━━━━━━━━━━\u001b[0m \u001b[32m41.9/41.9 kB\u001b[0m \u001b[31m3.8 MB/s\u001b[0m eta \u001b[36m0:00:00\u001b[0m\n",
            "\u001b[2K     \u001b[90m━━━━━━━━━━━━━━━━━━━━━━━━━━━━━━━━━━━━━━━━\u001b[0m \u001b[32m49.4/49.4 kB\u001b[0m \u001b[31m5.1 MB/s\u001b[0m eta \u001b[36m0:00:00\u001b[0m\n",
            "\u001b[?25h\u001b[31mERROR: pip's dependency resolver does not currently take into account all the packages that are installed. This behaviour is the source of the following dependency conflicts.\n",
            "llmx 0.0.15a0 requires cohere, which is not installed.\u001b[0m\u001b[31m\n",
            "\u001b[0m"
          ]
        }
      ]
    },
    {
      "cell_type": "code",
      "source": [
        "# Mount Google Drive\n",
        "from google.colab import drive\n",
        "drive.mount('/content/drive')"
      ],
      "metadata": {
        "colab": {
          "base_uri": "https://localhost:8080/"
        },
        "id": "8gLApILkCQCp",
        "outputId": "aca337ac-285d-4fe7-eabd-23ec406272dd"
      },
      "execution_count": 1,
      "outputs": [
        {
          "output_type": "stream",
          "name": "stdout",
          "text": [
            "Mounted at /content/drive\n"
          ]
        }
      ]
    },
    {
      "cell_type": "code",
      "source": [
        "import os\n",
        "from dotenv import load_dotenv\n",
        "\n",
        "# Load variables from file\n",
        "load_dotenv('/content/drive/MyDrive/Projects/keys/secrets.json')\n",
        "\n",
        "# Use variables\n",
        "openai_api = os.getenv('OPENAI_API_KEY')"
      ],
      "metadata": {
        "id": "DCvbNLVdCREQ"
      },
      "execution_count": 2,
      "outputs": []
    },
    {
      "cell_type": "code",
      "source": [
        "from langchain.prompts import PromptTemplate\n",
        "from langchain.llms import OpenAI\n",
        "from langchain.chains import LLMChain\n",
        "import textwrap"
      ],
      "metadata": {
        "id": "l9qfWnYyCSYh"
      },
      "execution_count": 3,
      "outputs": []
    },
    {
      "cell_type": "code",
      "source": [
        "llm = OpenAI(model_name='text-davinci-003',\n",
        "             temperature=0,\n",
        "             max_tokens=256)"
      ],
      "metadata": {
        "id": "-vuwdTXmCUI0"
      },
      "execution_count": 4,
      "outputs": []
    },
    {
      "cell_type": "code",
      "source": [
        "article = '''When Rory McIlroy spoke to the BBC at this weekend’s Formula 1 race in Austin, Tex., and declared that golf “could learn quite a bit” from the sport, it was hard not to draw the connection to LIV’s team championship happening at the same time, just 1,000 miles to his east.\n",
        "After all, what is LIV doing but trying to learn from F1? That’s the entire conceit. The scoring system is similar. The leaderboard is similar. The team concept and heck, even the colors and graphics — they’re all modeled after F1.\n",
        "LIV isn’t the only group tinkering with pro golf, though. Everybody has been trying to redesign and reimagine the sport including, as of these last few months, private equity firms. That’s the question that LIV has forced upon the PGA Tour (and everyone who invests time, money or emotion in the sport): should we be rethinking the entire thing?\n",
        "Part of me says that yes, they were right and it all needed rethinking. The PGA Tour is not perfect and has not been perfect and fails in several places where, for instance, F1 succeeds. The Tour had too many events, which watered down each of those events. It didn’t have an offseason which meant it didn’t really have a season. As a result, season-long fan investment and comprehension was nearly impossible and the idea of the Tour was basically to become part of your Sunday afternoon routine. Let’s turn the golf on! That needed updating.\n",
        "But my second thought is LIV has adopted as many of those strategies as possible but the whole thing doesn’t quite work. I’m not saying it can’t work. Maybe some of you would argue that it is working. And in fairness I haven’t been to a LIV event since last season, so I can’t really speak to the in-person experience that many attendees have praised. But as a big-picture, groundbreaking golf movement, LIV’s first full season has now come to a close and the main impression it’s left on the sports world is as a disruptor and a money fountain for four dozen golfers. (There’s no disputing that they have done quite well!) But the actual product, including this weekend’s team championship, hasn’t seemed to resonate at all.\n",
        "What’s the lesson? There’s no way to go halfway into the LIV concept. To make it work you’d need all of golf’s star power bought in and you’d need its existing structures bought in, too. You’d need to merge new LIV team events with existing PGA Tour events like, say, Bay Hill, where there’s existing history and context and the winner would really mean something. You need teams to matter? Get Ian Poulter and the Majesticks to move to London. Get Bubba Watson and the Range Goats to live and play out of Tallahassee. Sign with Smash GC? Congrats — you’re moving to Cleveland, near where Jason Kokrak grew up. But I don’t see any of that happening, which leaves the somewhat hollow feeling that LIV’s first couple seasons have served as a proof of concept but leave no obvious way forward. We think and talk about it every week but it’s still not clear to me how, if the PGA Tour-LIV deal goes through, the league will exist in some reduced capacity. After all, if LIV’s format requires our complete buy-in — to the teams, to the characters, to the world it’s created — some half-in, half-out version of LIV makes even less sense than the one currently constructed.\n",
        "So yeah, the PGA Tour still has lessons to learn from Formula 1. It has lessons to learn from LIV, too. It’s already made massive strides towards a more coherent season; a proper offseason means a stronger in-season. The Signature Events make big-picture sense, even though we can squabble about the details. The entire narrative seems to work a little better in identifying which events are the big ones. It’s still not F1, though. Not every event feels big enough. And at the moment I have no idea what happens next.\n",
        "WINNERS\n",
        "Who won the week?\n",
        "Collin Morikawa hadn’t won since the 2021 DP World Tour Championship. Hadn’t won a PGA Tour event since the 2021 Open! But perhaps its useful to think of all those top-fives and top-10s and putting lessons and equipment tune-ups as buckets of water he was pouring into a dammed-up reservoir, filling it little by little by little. On Sunday at the Zozo Championship that dam didn’t just break — it combusted. Morikawa blew away any other final-round contenders by shooting the lowest score of the week when he got up and down for birdie at No. 18 to post 63 and a whopping six-stroke win. We’ll see if the dam remains broken in 2024.\n",
        "Minjee Lee beat a stacked field in South Korea, besting Alison Lee with a six-foot birdie putt at the BMW Ladies Championship to claim the 10th title of her career.\n",
        "Adrian Meronk won the DP World Tour’s Andalucia Masters, the latest reminder that he is in fact very good at golf and was unfortunate not to make this year’s European Ryder Cup team — although it’s tough to second-guess any decisions made around that dominant squad.\n",
        "And the Crushers took home LIV’s team title in Miami, advancing through match play and winning a Sunday stroke-play shootout in which all four of its players’ scores counted. Led by Anirban Lahiri’s 65 and Bryson DeChambeau’s 67, the team earned $14 million, of which $8m went to the franchise itself and $1.4 to each of the four players.\n",
        "\n",
        "'''\n",
        "\n",
        "wrapped_text = textwrap.fill(article,\n",
        "                             width=100,\n",
        "                             break_long_words=False,\n",
        "                             replace_whitespace=False)\n",
        "\n",
        "print(wrapped_text)"
      ],
      "metadata": {
        "colab": {
          "base_uri": "https://localhost:8080/"
        },
        "id": "wHgIOyWJCU1Z",
        "outputId": "1a2e4636-0577-44ce-e457-c87dab9e9871"
      },
      "execution_count": 6,
      "outputs": [
        {
          "output_type": "stream",
          "name": "stdout",
          "text": [
            "When Rory McIlroy spoke to the BBC at this weekend’s Formula 1 race in Austin, Tex., and declared\n",
            "that golf “could learn quite a bit” from the sport, it was hard not to draw the connection to LIV’s\n",
            "team championship happening at the same time, just 1,000 miles to his east.\n",
            "After all, what is LIV\n",
            "doing but trying to learn from F1? That’s the entire conceit. The scoring system is similar. The\n",
            "leaderboard is similar. The team concept and heck, even the colors and graphics — they’re all\n",
            "modeled after F1.\n",
            "LIV isn’t the only group tinkering with pro golf, though. Everybody has been\n",
            "trying to redesign and reimagine the sport including, as of these last few months, private equity\n",
            "firms. That’s the question that LIV has forced upon the PGA Tour (and everyone who invests time,\n",
            "money or emotion in the sport): should we be rethinking the entire thing?\n",
            "Part of me says that yes,\n",
            "they were right and it all needed rethinking. The PGA Tour is not perfect and has not been perfect\n",
            "and fails in several places where, for instance, F1 succeeds. The Tour had too many events, which\n",
            "watered down each of those events. It didn’t have an offseason which meant it didn’t really have a\n",
            "season. As a result, season-long fan investment and comprehension was nearly impossible and the idea\n",
            "of the Tour was basically to become part of your Sunday afternoon routine. Let’s turn the golf on!\n",
            "That needed updating.\n",
            "But my second thought is LIV has adopted as many of those strategies as\n",
            "possible but the whole thing doesn’t quite work. I’m not saying it can’t work. Maybe some of you\n",
            "would argue that it is working. And in fairness I haven’t been to a LIV event since last season, so\n",
            "I can’t really speak to the in-person experience that many attendees have praised. But as a big-\n",
            "picture, groundbreaking golf movement, LIV’s first full season has now come to a close and the main\n",
            "impression it’s left on the sports world is as a disruptor and a money fountain for four dozen\n",
            "golfers. (There’s no disputing that they have done quite well!) But the actual product, including\n",
            "this weekend’s team championship, hasn’t seemed to resonate at all.\n",
            "What’s the lesson? There’s no\n",
            "way to go halfway into the LIV concept. To make it work you’d need all of golf’s star power bought\n",
            "in and you’d need its existing structures bought in, too. You’d need to merge new LIV team events\n",
            "with existing PGA Tour events like, say, Bay Hill, where there’s existing history and context and\n",
            "the winner would really mean something. You need teams to matter? Get Ian Poulter and the Majesticks\n",
            "to move to London. Get Bubba Watson and the Range Goats to live and play out of Tallahassee. Sign\n",
            "with Smash GC? Congrats — you’re moving to Cleveland, near where Jason Kokrak grew up. But I don’t\n",
            "see any of that happening, which leaves the somewhat hollow feeling that LIV’s first couple seasons\n",
            "have served as a proof of concept but leave no obvious way forward. We think and talk about it every\n",
            "week but it’s still not clear to me how, if the PGA Tour-LIV deal goes through, the league will\n",
            "exist in some reduced capacity. After all, if LIV’s format requires our complete buy-in — to the\n",
            "teams, to the characters, to the world it’s created — some half-in, half-out version of LIV makes\n",
            "even less sense than the one currently constructed.\n",
            "So yeah, the PGA Tour still has lessons to learn\n",
            "from Formula 1. It has lessons to learn from LIV, too. It’s already made massive strides towards a\n",
            "more coherent season; a proper offseason means a stronger in-season. The Signature Events make big-\n",
            "picture sense, even though we can squabble about the details. The entire narrative seems to work a\n",
            "little better in identifying which events are the big ones. It’s still not F1, though. Not every\n",
            "event feels big enough. And at the moment I have no idea what happens next.\n",
            "WINNERS\n",
            "Who won the\n",
            "week?\n",
            "Collin Morikawa hadn’t won since the 2021 DP World Tour Championship. Hadn’t won a PGA Tour\n",
            "event since the 2021 Open! But perhaps its useful to think of all those top-fives and top-10s and\n",
            "putting lessons and equipment tune-ups as buckets of water he was pouring into a dammed-up\n",
            "reservoir, filling it little by little by little. On Sunday at the Zozo Championship that dam didn’t\n",
            "just break — it combusted. Morikawa blew away any other final-round contenders by shooting the\n",
            "lowest score of the week when he got up and down for birdie at No. 18 to post 63 and a whopping six-\n",
            "stroke win. We’ll see if the dam remains broken in 2024.\n",
            "Minjee Lee beat a stacked field in South\n",
            "Korea, besting Alison Lee with a six-foot birdie putt at the BMW Ladies Championship to claim the\n",
            "10th title of her career.\n",
            "Adrian Meronk won the DP World Tour’s Andalucia Masters, the latest\n",
            "reminder that he is in fact very good at golf and was unfortunate not to make this year’s European\n",
            "Ryder Cup team — although it’s tough to second-guess any decisions made around that dominant squad.\n",
            "And the Crushers took home LIV’s team title in Miami, advancing through match play and winning a\n",
            "Sunday stroke-play shootout in which all four of its players’ scores counted. Led by Anirban\n",
            "Lahiri’s 65 and Bryson DeChambeau’s 67, the team earned $14 million, of which $8m went to the\n",
            "franchise itself and $1.4 to each of the four players.\n"
          ]
        }
      ]
    },
    {
      "cell_type": "code",
      "source": [
        "len(article)"
      ],
      "metadata": {
        "colab": {
          "base_uri": "https://localhost:8080/"
        },
        "id": "CeT8aAoMGdb5",
        "outputId": "c9a5f69d-fe60-44bb-ac87-57c0464fb884"
      },
      "execution_count": 7,
      "outputs": [
        {
          "output_type": "execute_result",
          "data": {
            "text/plain": [
              "5240"
            ]
          },
          "metadata": {},
          "execution_count": 7
        }
      ]
    },
    {
      "cell_type": "code",
      "source": [
        "fact_extraction_prompt = PromptTemplate(\n",
        "    input_variables=[\"text_input\"],\n",
        "    template=\"Extract the key facts out of this text. Don't include opinions. \\\n",
        "    Give each fact a number and keep them short sentences. :\\n\\n {text_input}\"\n",
        ")"
      ],
      "metadata": {
        "id": "xXhyejiLGj-c"
      },
      "execution_count": 8,
      "outputs": []
    },
    {
      "cell_type": "code",
      "source": [
        "fact_extraction_chain = LLMChain(llm=llm, prompt=fact_extraction_prompt)\n",
        "\n",
        "facts = fact_extraction_chain.run(article)\n",
        "\n",
        "wrapped_text = textwrap.fill(facts,\n",
        "                             width=100,\n",
        "                             break_long_words=False,\n",
        "                             replace_whitespace=False)\n",
        "\n",
        "print(wrapped_text)"
      ],
      "metadata": {
        "colab": {
          "base_uri": "https://localhost:8080/"
        },
        "id": "S5dxfuXoH4Df",
        "outputId": "ee8a9a55-06ff-4a0f-a6e9-5fae3d4c8e03"
      },
      "execution_count": 13,
      "outputs": [
        {
          "output_type": "stream",
          "name": "stdout",
          "text": [
            "\n",
            "1. Rory McIlroy suggested golf could learn from Formula 1. \n",
            "2. LIV is trying to learn from F1. \n",
            "3.\n",
            "Private equity firms have been trying to redesign and reimagine golf. \n",
            "4. The PGA Tour had too many\n",
            "events which watered down each event. \n",
            "5. The PGA Tour did not have an offseason. \n",
            "6. Collin\n",
            "Morikawa won the Zozo Championship. \n",
            "7. Minjee Lee won the BMW Ladies Championship. \n",
            "8. Adrian\n",
            "Meronk won the DP World Tour's Andalucia Masters. \n",
            "9. The Crushers won LIV's team title in Miami.\n"
          ]
        }
      ]
    },
    {
      "cell_type": "markdown",
      "source": [
        "# Summaryization Checking"
      ],
      "metadata": {
        "id": "H80ZoOQmLiFO"
      }
    },
    {
      "cell_type": "code",
      "source": [
        "from langchain.chains import LLMSummarizationCheckerChain\n",
        "from langchain.llms import OpenAIChat\n",
        "\n",
        "llm = OpenAI(temperature=0)\n",
        "\n",
        "checker_chain = LLMSummarizationCheckerChain(llm=llm,\n",
        "                                             verbose=True,\n",
        "                                             max_checks=2)\n",
        "\n",
        "final_summary = checker_chain.run(article)\n",
        "final_summary"
      ],
      "metadata": {
        "colab": {
          "base_uri": "https://localhost:8080/",
          "height": 1000
        },
        "id": "-V_iDjKMIhVU",
        "outputId": "c0d7f93f-639a-4cb0-ce9d-f3ea871218ff"
      },
      "execution_count": 14,
      "outputs": [
        {
          "output_type": "stream",
          "name": "stderr",
          "text": [
            "/usr/local/lib/python3.10/dist-packages/langchain/chains/llm_summarization_checker/base.py:114: UserWarning: Directly instantiating an LLMSummarizationCheckerChain with an llm is deprecated. Please instantiate with sequential_chain argument or using the from_llm class method.\n",
            "  warnings.warn(\n"
          ]
        },
        {
          "output_type": "stream",
          "name": "stdout",
          "text": [
            "\n",
            "\n",
            "\u001b[1m> Entering new LLMSummarizationCheckerChain chain...\u001b[0m\n",
            "\n",
            "\n",
            "\u001b[1m> Entering new SequentialChain chain...\u001b[0m\n",
            "\n",
            "\n",
            "\u001b[1m> Entering new LLMChain chain...\u001b[0m\n",
            "Prompt after formatting:\n",
            "\u001b[32;1m\u001b[1;3mGiven some text, extract a list of facts from the text.\n",
            "\n",
            "Format your output as a bulleted list.\n",
            "\n",
            "Text:\n",
            "\"\"\"\n",
            "When Rory McIlroy spoke to the BBC at this weekend’s Formula 1 race in Austin, Tex., and declared that golf “could learn quite a bit” from the sport, it was hard not to draw the connection to LIV’s team championship happening at the same time, just 1,000 miles to his east.\n",
            "After all, what is LIV doing but trying to learn from F1? That’s the entire conceit. The scoring system is similar. The leaderboard is similar. The team concept and heck, even the colors and graphics — they’re all modeled after F1.\n",
            "LIV isn’t the only group tinkering with pro golf, though. Everybody has been trying to redesign and reimagine the sport including, as of these last few months, private equity firms. That’s the question that LIV has forced upon the PGA Tour (and everyone who invests time, money or emotion in the sport): should we be rethinking the entire thing?\n",
            "Part of me says that yes, they were right and it all needed rethinking. The PGA Tour is not perfect and has not been perfect and fails in several places where, for instance, F1 succeeds. The Tour had too many events, which watered down each of those events. It didn’t have an offseason which meant it didn’t really have a season. As a result, season-long fan investment and comprehension was nearly impossible and the idea of the Tour was basically to become part of your Sunday afternoon routine. Let’s turn the golf on! That needed updating.\n",
            "But my second thought is LIV has adopted as many of those strategies as possible but the whole thing doesn’t quite work. I’m not saying it can’t work. Maybe some of you would argue that it is working. And in fairness I haven’t been to a LIV event since last season, so I can’t really speak to the in-person experience that many attendees have praised. But as a big-picture, groundbreaking golf movement, LIV’s first full season has now come to a close and the main impression it’s left on the sports world is as a disruptor and a money fountain for four dozen golfers. (There’s no disputing that they have done quite well!) But the actual product, including this weekend’s team championship, hasn’t seemed to resonate at all.\n",
            "What’s the lesson? There’s no way to go halfway into the LIV concept. To make it work you’d need all of golf’s star power bought in and you’d need its existing structures bought in, too. You’d need to merge new LIV team events with existing PGA Tour events like, say, Bay Hill, where there’s existing history and context and the winner would really mean something. You need teams to matter? Get Ian Poulter and the Majesticks to move to London. Get Bubba Watson and the Range Goats to live and play out of Tallahassee. Sign with Smash GC? Congrats — you’re moving to Cleveland, near where Jason Kokrak grew up. But I don’t see any of that happening, which leaves the somewhat hollow feeling that LIV’s first couple seasons have served as a proof of concept but leave no obvious way forward. We think and talk about it every week but it’s still not clear to me how, if the PGA Tour-LIV deal goes through, the league will exist in some reduced capacity. After all, if LIV’s format requires our complete buy-in — to the teams, to the characters, to the world it’s created — some half-in, half-out version of LIV makes even less sense than the one currently constructed.\n",
            "So yeah, the PGA Tour still has lessons to learn from Formula 1. It has lessons to learn from LIV, too. It’s already made massive strides towards a more coherent season; a proper offseason means a stronger in-season. The Signature Events make big-picture sense, even though we can squabble about the details. The entire narrative seems to work a little better in identifying which events are the big ones. It’s still not F1, though. Not every event feels big enough. And at the moment I have no idea what happens next.\n",
            "WINNERS\n",
            "Who won the week?\n",
            "Collin Morikawa hadn’t won since the 2021 DP World Tour Championship. Hadn’t won a PGA Tour event since the 2021 Open! But perhaps its useful to think of all those top-fives and top-10s and putting lessons and equipment tune-ups as buckets of water he was pouring into a dammed-up reservoir, filling it little by little by little. On Sunday at the Zozo Championship that dam didn’t just break — it combusted. Morikawa blew away any other final-round contenders by shooting the lowest score of the week when he got up and down for birdie at No. 18 to post 63 and a whopping six-stroke win. We’ll see if the dam remains broken in 2024.\n",
            "Minjee Lee beat a stacked field in South Korea, besting Alison Lee with a six-foot birdie putt at the BMW Ladies Championship to claim the 10th title of her career.\n",
            "Adrian Meronk won the DP World Tour’s Andalucia Masters, the latest reminder that he is in fact very good at golf and was unfortunate not to make this year’s European Ryder Cup team — although it’s tough to second-guess any decisions made around that dominant squad.\n",
            "And the Crushers took home LIV’s team title in Miami, advancing through match play and winning a Sunday stroke-play shootout in which all four of its players’ scores counted. Led by Anirban Lahiri’s 65 and Bryson DeChambeau’s 67, the team earned $14 million, of which $8m went to the franchise itself and $1.4 to each of the four players.\n",
            "\n",
            "\n",
            "\"\"\"\n",
            "\n",
            "Facts:\u001b[0m\n",
            "\n",
            "\u001b[1m> Finished chain.\u001b[0m\n",
            "\n",
            "\n",
            "\u001b[1m> Entering new LLMChain chain...\u001b[0m\n",
            "Prompt after formatting:\n",
            "\u001b[32;1m\u001b[1;3mYou are an expert fact checker. You have been hired by a major news organization to fact check a very important story.\n",
            "\n",
            "Here is a bullet point list of facts:\n",
            "\"\"\"\n",
            "\n",
            "- Rory McIlroy spoke to the BBC at this weekend’s Formula 1 race in Austin, Tex., and declared that golf “could learn quite a bit” from the sport\n",
            "- LIV is trying to learn from F1, with a similar scoring system, leaderboard, team concept, colors, and graphics\n",
            "- Private equity firms have been trying to redesign and reimagine the sport\n",
            "- The PGA Tour had too many events, which watered down each event, and didn't have an offseason\n",
            "- LIV has adopted many of the PGA Tour's strategies, but the product hasn't seemed to resonate\n",
            "- To make LIV work, all of golf's star power and existing structures would need to be bought in\n",
            "- Collin Morikawa won the Zozo Championship with a six-stroke win\n",
            "- Minjee Lee won the BMW Ladies Championship with a six-foot birdie putt\n",
            "- Adrian Meronk won the DP World Tour’s Andalucia Masters\n",
            "- The Crushers won LIV’s team title in Miami, earning $14 million, of which $8m went to the franchise itself and $1.4 to each of the four players\n",
            "\"\"\"\n",
            "\n",
            "For each fact, determine whether it is true or false about the subject. If you are unable to determine whether the fact is true or false, output \"Undetermined\".\n",
            "If the fact is false, explain why.\n",
            "\n",
            "\u001b[0m\n",
            "\n",
            "\u001b[1m> Finished chain.\u001b[0m\n",
            "\n",
            "\n",
            "\u001b[1m> Entering new LLMChain chain...\u001b[0m\n",
            "Prompt after formatting:\n",
            "\u001b[32;1m\u001b[1;3mBelow are some assertions that have been fact checked and are labeled as true or false. If the answer is false, a suggestion is given for a correction.\n",
            "\n",
            "Checked Assertions:\n",
            "\"\"\"\n",
            "\n",
            "- Rory McIlroy spoke to the BBC at this weekend’s Formula 1 race in Austin, Tex., and declared that golf “could learn quite a bit” from the sport: True \n",
            "\n",
            "- LIV is trying to learn from F1, with a similar scoring system, leaderboard, team concept, colors, and graphics: True \n",
            "\n",
            "- Private equity firms have been trying to redesign and reimagine the sport: True \n",
            "\n",
            "- The PGA Tour had too many events, which watered down each event, and didn't have an offseason: True \n",
            "\n",
            "- LIV has adopted many of the PGA Tour's strategies, but the product hasn't seemed to resonate: True \n",
            "\n",
            "- To make LIV work, all of golf's star power and existing structures would need to be bought in: Undetermined \n",
            "\n",
            "- Collin Morikawa won the Zozo Championship with a six-stroke win: True \n",
            "\n",
            "- Minjee Lee won the BMW Ladies Championship with a six-foot birdie putt: False - Minjee Lee won the BMW Ladies Championship with a two-foot birdie putt. \n",
            "\n",
            "- Adrian Meronk won the DP World Tour’s Andal\n",
            "\"\"\"\n",
            "\n",
            "Original Summary:\n",
            "\"\"\"\n",
            "When Rory McIlroy spoke to the BBC at this weekend’s Formula 1 race in Austin, Tex., and declared that golf “could learn quite a bit” from the sport, it was hard not to draw the connection to LIV’s team championship happening at the same time, just 1,000 miles to his east.\n",
            "After all, what is LIV doing but trying to learn from F1? That’s the entire conceit. The scoring system is similar. The leaderboard is similar. The team concept and heck, even the colors and graphics — they’re all modeled after F1.\n",
            "LIV isn’t the only group tinkering with pro golf, though. Everybody has been trying to redesign and reimagine the sport including, as of these last few months, private equity firms. That’s the question that LIV has forced upon the PGA Tour (and everyone who invests time, money or emotion in the sport): should we be rethinking the entire thing?\n",
            "Part of me says that yes, they were right and it all needed rethinking. The PGA Tour is not perfect and has not been perfect and fails in several places where, for instance, F1 succeeds. The Tour had too many events, which watered down each of those events. It didn’t have an offseason which meant it didn’t really have a season. As a result, season-long fan investment and comprehension was nearly impossible and the idea of the Tour was basically to become part of your Sunday afternoon routine. Let’s turn the golf on! That needed updating.\n",
            "But my second thought is LIV has adopted as many of those strategies as possible but the whole thing doesn’t quite work. I’m not saying it can’t work. Maybe some of you would argue that it is working. And in fairness I haven’t been to a LIV event since last season, so I can’t really speak to the in-person experience that many attendees have praised. But as a big-picture, groundbreaking golf movement, LIV’s first full season has now come to a close and the main impression it’s left on the sports world is as a disruptor and a money fountain for four dozen golfers. (There’s no disputing that they have done quite well!) But the actual product, including this weekend’s team championship, hasn’t seemed to resonate at all.\n",
            "What’s the lesson? There’s no way to go halfway into the LIV concept. To make it work you’d need all of golf’s star power bought in and you’d need its existing structures bought in, too. You’d need to merge new LIV team events with existing PGA Tour events like, say, Bay Hill, where there’s existing history and context and the winner would really mean something. You need teams to matter? Get Ian Poulter and the Majesticks to move to London. Get Bubba Watson and the Range Goats to live and play out of Tallahassee. Sign with Smash GC? Congrats — you’re moving to Cleveland, near where Jason Kokrak grew up. But I don’t see any of that happening, which leaves the somewhat hollow feeling that LIV’s first couple seasons have served as a proof of concept but leave no obvious way forward. We think and talk about it every week but it’s still not clear to me how, if the PGA Tour-LIV deal goes through, the league will exist in some reduced capacity. After all, if LIV’s format requires our complete buy-in — to the teams, to the characters, to the world it’s created — some half-in, half-out version of LIV makes even less sense than the one currently constructed.\n",
            "So yeah, the PGA Tour still has lessons to learn from Formula 1. It has lessons to learn from LIV, too. It’s already made massive strides towards a more coherent season; a proper offseason means a stronger in-season. The Signature Events make big-picture sense, even though we can squabble about the details. The entire narrative seems to work a little better in identifying which events are the big ones. It’s still not F1, though. Not every event feels big enough. And at the moment I have no idea what happens next.\n",
            "WINNERS\n",
            "Who won the week?\n",
            "Collin Morikawa hadn’t won since the 2021 DP World Tour Championship. Hadn’t won a PGA Tour event since the 2021 Open! But perhaps its useful to think of all those top-fives and top-10s and putting lessons and equipment tune-ups as buckets of water he was pouring into a dammed-up reservoir, filling it little by little by little. On Sunday at the Zozo Championship that dam didn’t just break — it combusted. Morikawa blew away any other final-round contenders by shooting the lowest score of the week when he got up and down for birdie at No. 18 to post 63 and a whopping six-stroke win. We’ll see if the dam remains broken in 2024.\n",
            "Minjee Lee beat a stacked field in South Korea, besting Alison Lee with a six-foot birdie putt at the BMW Ladies Championship to claim the 10th title of her career.\n",
            "Adrian Meronk won the DP World Tour’s Andalucia Masters, the latest reminder that he is in fact very good at golf and was unfortunate not to make this year’s European Ryder Cup team — although it’s tough to second-guess any decisions made around that dominant squad.\n",
            "And the Crushers took home LIV’s team title in Miami, advancing through match play and winning a Sunday stroke-play shootout in which all four of its players’ scores counted. Led by Anirban Lahiri’s 65 and Bryson DeChambeau’s 67, the team earned $14 million, of which $8m went to the franchise itself and $1.4 to each of the four players.\n",
            "\n",
            "\n",
            "\"\"\"\n",
            "\n",
            "Using these checked assertions, rewrite the original summary to be completely true.\n",
            "\n",
            "The output should have the same structure and formatting as the original summary.\n",
            "\n",
            "Summary:\u001b[0m\n",
            "\n",
            "\u001b[1m> Finished chain.\u001b[0m\n",
            "\n",
            "\n",
            "\u001b[1m> Entering new LLMChain chain...\u001b[0m\n",
            "Prompt after formatting:\n",
            "\u001b[32;1m\u001b[1;3mBelow are some assertions that have been fact checked and are labeled as true or false.\n",
            "\n",
            "If all of the assertions are true, return \"True\". If any of the assertions are false, return \"False\".\n",
            "\n",
            "Here are some examples:\n",
            "===\n",
            "\n",
            "Checked Assertions: \"\"\"\n",
            "- The sky is red: False\n",
            "- Water is made of lava: False\n",
            "- The sun is a star: True\n",
            "\"\"\"\n",
            "Result: False\n",
            "\n",
            "===\n",
            "\n",
            "Checked Assertions: \"\"\"\n",
            "- The sky is blue: True\n",
            "- Water is wet: True\n",
            "- The sun is a star: True\n",
            "\"\"\"\n",
            "Result: True\n",
            "\n",
            "===\n",
            "\n",
            "Checked Assertions: \"\"\"\n",
            "- The sky is blue - True\n",
            "- Water is made of lava- False\n",
            "- The sun is a star - True\n",
            "\"\"\"\n",
            "Result: False\n",
            "\n",
            "===\n",
            "\n",
            "Checked Assertions:\"\"\"\n",
            "\n",
            "- Rory McIlroy spoke to the BBC at this weekend’s Formula 1 race in Austin, Tex., and declared that golf “could learn quite a bit” from the sport: True \n",
            "\n",
            "- LIV is trying to learn from F1, with a similar scoring system, leaderboard, team concept, colors, and graphics: True \n",
            "\n",
            "- Private equity firms have been trying to redesign and reimagine the sport: True \n",
            "\n",
            "- The PGA Tour had too many events, which watered down each event, and didn't have an offseason: True \n",
            "\n",
            "- LIV has adopted many of the PGA Tour's strategies, but the product hasn't seemed to resonate: True \n",
            "\n",
            "- To make LIV work, all of golf's star power and existing structures would need to be bought in: Undetermined \n",
            "\n",
            "- Collin Morikawa won the Zozo Championship with a six-stroke win: True \n",
            "\n",
            "- Minjee Lee won the BMW Ladies Championship with a six-foot birdie putt: False - Minjee Lee won the BMW Ladies Championship with a two-foot birdie putt. \n",
            "\n",
            "- Adrian Meronk won the DP World Tour’s Andal\n",
            "\"\"\"\n",
            "Result:\u001b[0m\n",
            "\n",
            "\u001b[1m> Finished chain.\u001b[0m\n",
            "\n",
            "\u001b[1m> Finished chain.\u001b[0m\n",
            "\n",
            "When Rory McIlroy spoke to the BBC at this weekend’s Formula 1 race in Austin, Tex., and declared that golf “could learn quite a bit” from the sport, it was hard not to draw the connection to LIV’s team championship happening at the same time, just 1,000 miles to his east.\n",
            "After all, what is LIV doing but trying to learn from F1? That’s the entire conceit. The scoring system is similar. The leaderboard is similar. The team concept and heck, even the colors and graphics — they’re all modeled after F1.\n",
            "LIV isn’t the only group tinkering with pro golf, though. Private equity firms have been trying to redesign and reimagine the sport, as have the PGA Tour. The Tour had too many events, which watered down each of those events, and didn't have an offseason. As a result, season-long fan investment and comprehension was nearly impossible and the idea of the Tour was basically to become part of your Sunday afternoon routine. \n",
            "LIV has adopted many of the PGA Tour's strategies, but the product hasn't seemed to resonate. To make LIV work, all of\n",
            "\n",
            "\n",
            "\u001b[1m> Entering new SequentialChain chain...\u001b[0m\n",
            "\n",
            "\n",
            "\u001b[1m> Entering new LLMChain chain...\u001b[0m\n",
            "Prompt after formatting:\n",
            "\u001b[32;1m\u001b[1;3mGiven some text, extract a list of facts from the text.\n",
            "\n",
            "Format your output as a bulleted list.\n",
            "\n",
            "Text:\n",
            "\"\"\"\n",
            "\n",
            "When Rory McIlroy spoke to the BBC at this weekend’s Formula 1 race in Austin, Tex., and declared that golf “could learn quite a bit” from the sport, it was hard not to draw the connection to LIV’s team championship happening at the same time, just 1,000 miles to his east.\n",
            "After all, what is LIV doing but trying to learn from F1? That’s the entire conceit. The scoring system is similar. The leaderboard is similar. The team concept and heck, even the colors and graphics — they’re all modeled after F1.\n",
            "LIV isn’t the only group tinkering with pro golf, though. Private equity firms have been trying to redesign and reimagine the sport, as have the PGA Tour. The Tour had too many events, which watered down each of those events, and didn't have an offseason. As a result, season-long fan investment and comprehension was nearly impossible and the idea of the Tour was basically to become part of your Sunday afternoon routine. \n",
            "LIV has adopted many of the PGA Tour's strategies, but the product hasn't seemed to resonate. To make LIV work, all of\n",
            "\"\"\"\n",
            "\n",
            "Facts:\u001b[0m\n",
            "\n",
            "\u001b[1m> Finished chain.\u001b[0m\n",
            "\n",
            "\n",
            "\u001b[1m> Entering new LLMChain chain...\u001b[0m\n",
            "Prompt after formatting:\n",
            "\u001b[32;1m\u001b[1;3mYou are an expert fact checker. You have been hired by a major news organization to fact check a very important story.\n",
            "\n",
            "Here is a bullet point list of facts:\n",
            "\"\"\"\n",
            "\n",
            "- Rory McIlroy spoke to the BBC at this weekend’s Formula 1 race in Austin, Tex.\n",
            "- McIlroy declared that golf “could learn quite a bit” from the sport\n",
            "- LIV is trying to learn from F1\n",
            "- The scoring system, leaderboard, team concept, colors and graphics of LIV are modeled after F1\n",
            "- Private equity firms have been trying to redesign and reimagine the sport\n",
            "- The PGA Tour had too many events, which watered down each of those events, and didn't have an offseason\n",
            "- LIV has adopted many of the PGA Tour's strategies\n",
            "\"\"\"\n",
            "\n",
            "For each fact, determine whether it is true or false about the subject. If you are unable to determine whether the fact is true or false, output \"Undetermined\".\n",
            "If the fact is false, explain why.\n",
            "\n",
            "\u001b[0m\n",
            "\n",
            "\u001b[1m> Finished chain.\u001b[0m\n",
            "\n",
            "\n",
            "\u001b[1m> Entering new LLMChain chain...\u001b[0m\n",
            "Prompt after formatting:\n",
            "\u001b[32;1m\u001b[1;3mBelow are some assertions that have been fact checked and are labeled as true or false. If the answer is false, a suggestion is given for a correction.\n",
            "\n",
            "Checked Assertions:\n",
            "\"\"\"\n",
            "\n",
            "- Rory McIlroy spoke to the BBC at this weekend’s Formula 1 race in Austin, Tex. - True \n",
            "\n",
            "- McIlroy declared that golf “could learn quite a bit” from the sport - True \n",
            "\n",
            "- LIV is trying to learn from F1 - True \n",
            "\n",
            "- The scoring system, leaderboard, team concept, colors and graphics of LIV are modeled after F1 - True \n",
            "\n",
            "- Private equity firms have been trying to redesign and reimagine the sport - True \n",
            "\n",
            "- The PGA Tour had too many events, which watered down each of those events, and didn't have an offseason - False. The PGA Tour had a limited number of events, but they were spread out throughout the year, and there was an offseason. \n",
            "\n",
            "- LIV has adopted many of the PGA Tour's strategies - Undetermined\n",
            "\"\"\"\n",
            "\n",
            "Original Summary:\n",
            "\"\"\"\n",
            "\n",
            "When Rory McIlroy spoke to the BBC at this weekend’s Formula 1 race in Austin, Tex., and declared that golf “could learn quite a bit” from the sport, it was hard not to draw the connection to LIV’s team championship happening at the same time, just 1,000 miles to his east.\n",
            "After all, what is LIV doing but trying to learn from F1? That’s the entire conceit. The scoring system is similar. The leaderboard is similar. The team concept and heck, even the colors and graphics — they’re all modeled after F1.\n",
            "LIV isn’t the only group tinkering with pro golf, though. Private equity firms have been trying to redesign and reimagine the sport, as have the PGA Tour. The Tour had too many events, which watered down each of those events, and didn't have an offseason. As a result, season-long fan investment and comprehension was nearly impossible and the idea of the Tour was basically to become part of your Sunday afternoon routine. \n",
            "LIV has adopted many of the PGA Tour's strategies, but the product hasn't seemed to resonate. To make LIV work, all of\n",
            "\"\"\"\n",
            "\n",
            "Using these checked assertions, rewrite the original summary to be completely true.\n",
            "\n",
            "The output should have the same structure and formatting as the original summary.\n",
            "\n",
            "Summary:\u001b[0m\n",
            "\n",
            "\u001b[1m> Finished chain.\u001b[0m\n",
            "\n",
            "\n",
            "\u001b[1m> Entering new LLMChain chain...\u001b[0m\n",
            "Prompt after formatting:\n",
            "\u001b[32;1m\u001b[1;3mBelow are some assertions that have been fact checked and are labeled as true or false.\n",
            "\n",
            "If all of the assertions are true, return \"True\". If any of the assertions are false, return \"False\".\n",
            "\n",
            "Here are some examples:\n",
            "===\n",
            "\n",
            "Checked Assertions: \"\"\"\n",
            "- The sky is red: False\n",
            "- Water is made of lava: False\n",
            "- The sun is a star: True\n",
            "\"\"\"\n",
            "Result: False\n",
            "\n",
            "===\n",
            "\n",
            "Checked Assertions: \"\"\"\n",
            "- The sky is blue: True\n",
            "- Water is wet: True\n",
            "- The sun is a star: True\n",
            "\"\"\"\n",
            "Result: True\n",
            "\n",
            "===\n",
            "\n",
            "Checked Assertions: \"\"\"\n",
            "- The sky is blue - True\n",
            "- Water is made of lava- False\n",
            "- The sun is a star - True\n",
            "\"\"\"\n",
            "Result: False\n",
            "\n",
            "===\n",
            "\n",
            "Checked Assertions:\"\"\"\n",
            "\n",
            "- Rory McIlroy spoke to the BBC at this weekend’s Formula 1 race in Austin, Tex. - True \n",
            "\n",
            "- McIlroy declared that golf “could learn quite a bit” from the sport - True \n",
            "\n",
            "- LIV is trying to learn from F1 - True \n",
            "\n",
            "- The scoring system, leaderboard, team concept, colors and graphics of LIV are modeled after F1 - True \n",
            "\n",
            "- Private equity firms have been trying to redesign and reimagine the sport - True \n",
            "\n",
            "- The PGA Tour had too many events, which watered down each of those events, and didn't have an offseason - False. The PGA Tour had a limited number of events, but they were spread out throughout the year, and there was an offseason. \n",
            "\n",
            "- LIV has adopted many of the PGA Tour's strategies - Undetermined\n",
            "\"\"\"\n",
            "Result:\u001b[0m\n",
            "\n",
            "\u001b[1m> Finished chain.\u001b[0m\n",
            "\n",
            "\u001b[1m> Finished chain.\u001b[0m\n",
            "\n",
            "When Rory McIlroy spoke to the BBC at this weekend’s Formula 1 race in Austin, Tex., and declared that golf “could learn quite a bit” from the sport, it was hard not to draw the connection to LIV’s team championship happening at the same time, just 1,000 miles to his east.\n",
            "After all, what is LIV doing but trying to learn from F1? That’s the entire conceit. The scoring system, leaderboard, team concept, colors and graphics of LIV are all modeled after F1.\n",
            "LIV isn’t the only group tinkering with pro golf, though. Private equity firms have been trying to redesign and reimagine the sport, as have the PGA Tour. The Tour had a limited number of events, but they were spread out throughout the year, and there was an offseason. As a result, season-long fan investment and comprehension was possible, and the idea of the Tour was to become part of viewers' Sunday afternoon routine. \n",
            "LIV has adopted some of the PGA Tour's strategies, but the product hasn't seemed to resonate. To make LIV work, all of the elements must come together in a way that\n",
            "\n",
            "\u001b[1m> Finished chain.\u001b[0m\n"
          ]
        },
        {
          "output_type": "execute_result",
          "data": {
            "text/plain": [
              "\"When Rory McIlroy spoke to the BBC at this weekend’s Formula 1 race in Austin, Tex., and declared that golf “could learn quite a bit” from the sport, it was hard not to draw the connection to LIV’s team championship happening at the same time, just 1,000 miles to his east.\\nAfter all, what is LIV doing but trying to learn from F1? That’s the entire conceit. The scoring system, leaderboard, team concept, colors and graphics of LIV are all modeled after F1.\\nLIV isn’t the only group tinkering with pro golf, though. Private equity firms have been trying to redesign and reimagine the sport, as have the PGA Tour. The Tour had a limited number of events, but they were spread out throughout the year, and there was an offseason. As a result, season-long fan investment and comprehension was possible, and the idea of the Tour was to become part of viewers' Sunday afternoon routine. \\nLIV has adopted some of the PGA Tour's strategies, but the product hasn't seemed to resonate. To make LIV work, all of the elements must come together in a way that\""
            ],
            "application/vnd.google.colaboratory.intrinsic+json": {
              "type": "string"
            }
          },
          "metadata": {},
          "execution_count": 14
        }
      ]
    },
    {
      "cell_type": "code",
      "source": [
        "len(final_summary)"
      ],
      "metadata": {
        "colab": {
          "base_uri": "https://localhost:8080/"
        },
        "id": "OyPc3uGwL_bq",
        "outputId": "030d180f-603a-4c07-a921-3d56cf119b84"
      },
      "execution_count": 15,
      "outputs": [
        {
          "output_type": "execute_result",
          "data": {
            "text/plain": [
              "1048"
            ]
          },
          "metadata": {},
          "execution_count": 15
        }
      ]
    },
    {
      "cell_type": "markdown",
      "source": [
        "# Making triples to compare to a graph"
      ],
      "metadata": {
        "id": "hctCcUoYTh6P"
      }
    },
    {
      "cell_type": "code",
      "source": [
        "triples_prompt = PromptTemplate(\n",
        "    input_variables=[\"facts\"],\n",
        "    template=\"Take the following list of facts and turn them into triples for a knowledge graph:\\n\\n {facts}\"\n",
        ")"
      ],
      "metadata": {
        "id": "h3vTaaybSkux"
      },
      "execution_count": 16,
      "outputs": []
    },
    {
      "cell_type": "code",
      "source": [
        "triples_chain = LLMChain(llm=llm, prompt=triples_prompt)\n",
        "\n",
        "triples = triples_chain.run(facts)"
      ],
      "metadata": {
        "id": "KLwy0rE0T4w9"
      },
      "execution_count": 17,
      "outputs": []
    },
    {
      "cell_type": "code",
      "source": [
        "print(triples)"
      ],
      "metadata": {
        "colab": {
          "base_uri": "https://localhost:8080/"
        },
        "id": "Za0M6QWRT-xL",
        "outputId": "af6909fe-72f2-4149-c6d0-05a2f15f14b8"
      },
      "execution_count": 19,
      "outputs": [
        {
          "output_type": "stream",
          "name": "stdout",
          "text": [
            "\n",
            "\n",
            "1. (Rory McIlroy, suggested, golf could learn from Formula 1) \n",
            "2. (LIV, trying to learn from, F1) \n",
            "3. (Private equity firms, have been trying to, redesign and reimagine golf) \n",
            "4. (The PGA Tour, had too many events, which watered down each event) \n",
            "5. (The PGA Tour, did not have, an offseason) \n",
            "6. (Collin Morikawa, won, the Zozo Championship) \n",
            "7. (Minjee Lee, won, the BMW Ladies Championship) \n",
            "8. (Adrian Meronk, won, the DP World Tour's Andalucia Masters) \n",
            "9. (The Crushers, won, LIV's team title in Miami)\n"
          ]
        }
      ]
    },
    {
      "cell_type": "code",
      "source": [],
      "metadata": {
        "id": "GPiduqp5UMWq"
      },
      "execution_count": null,
      "outputs": []
    }
  ]
}