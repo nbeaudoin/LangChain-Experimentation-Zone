{
  "nbformat": 4,
  "nbformat_minor": 0,
  "metadata": {
    "colab": {
      "provenance": [],
      "authorship_tag": "ABX9TyNnms2FGM/XtMxlQCbGEGY1",
      "include_colab_link": true
    },
    "kernelspec": {
      "name": "python3",
      "display_name": "Python 3"
    },
    "language_info": {
      "name": "python"
    }
  },
  "cells": [
    {
      "cell_type": "markdown",
      "metadata": {
        "id": "view-in-github",
        "colab_type": "text"
      },
      "source": [
        "<a href=\"https://colab.research.google.com/github/nbeaudoin/LangChain-Experimentation-Zone/blob/main/LangChain_Basics_Tutorial_2_Tools_and_Chains.ipynb\" target=\"_parent\"><img src=\"https://colab.research.google.com/assets/colab-badge.svg\" alt=\"Open In Colab\"/></a>"
      ]
    },
    {
      "cell_type": "markdown",
      "source": [
        "# Setup"
      ],
      "metadata": {
        "id": "Z7vZeqzwEyef"
      }
    },
    {
      "cell_type": "code",
      "execution_count": 3,
      "metadata": {
        "colab": {
          "base_uri": "https://localhost:8080/"
        },
        "id": "SddJv1w55URT",
        "outputId": "a7274b90-2863-480d-dd49-17d45d423db1"
      },
      "outputs": [
        {
          "output_type": "stream",
          "name": "stdout",
          "text": [
            "\u001b[2K     \u001b[90m━━━━━━━━━━━━━━━━━━━━━━━━━━━━━━━━━━━━━━━━\u001b[0m \u001b[32m76.5/76.5 kB\u001b[0m \u001b[31m1.4 MB/s\u001b[0m eta \u001b[36m0:00:00\u001b[0m\n",
            "\u001b[2K     \u001b[90m━━━━━━━━━━━━━━━━━━━━━━━━━━━━━━━━━━━━━━━━\u001b[0m \u001b[32m1.7/1.7 MB\u001b[0m \u001b[31m38.8 MB/s\u001b[0m eta \u001b[36m0:00:00\u001b[0m\n",
            "\u001b[2K     \u001b[90m━━━━━━━━━━━━━━━━━━━━━━━━━━━━━━━━━━━━━━\u001b[0m \u001b[32m294.8/294.8 kB\u001b[0m \u001b[31m30.8 MB/s\u001b[0m eta \u001b[36m0:00:00\u001b[0m\n",
            "\u001b[2K     \u001b[90m━━━━━━━━━━━━━━━━━━━━━━━━━━━━━━━━━━━━━━━━\u001b[0m \u001b[32m49.4/49.4 kB\u001b[0m \u001b[31m4.9 MB/s\u001b[0m eta \u001b[36m0:00:00\u001b[0m\n",
            "\u001b[?25hCollecting python-dotenv\n",
            "  Downloading python_dotenv-1.0.0-py3-none-any.whl (19 kB)\n",
            "Installing collected packages: python-dotenv\n",
            "Successfully installed python-dotenv-1.0.0\n",
            "Drive already mounted at /content/drive; to attempt to forcibly remount, call drive.mount(\"/content/drive\", force_remount=True).\n"
          ]
        }
      ],
      "source": [
        "!pip -q install openai langchain huggingface_hub\n",
        "!pip install python-dotenv\n",
        "\n",
        "# Mount Google Drive\n",
        "\n",
        "from google.colab import drive\n",
        "drive.mount('/content/drive')\n",
        "\n",
        "import os\n",
        "from dotenv import load_dotenv\n",
        "\n",
        "# Load variables from .env file\n",
        "load_dotenv('/content/drive/MyDrive/secrets.json')\n",
        "\n",
        "# Use variables\n",
        "openai_api = os.getenv('OPENAI_API_KEY')\n",
        "huggingface_api = os.getenv('HUGGINGFACE_API_KEY')\n"
      ]
    },
    {
      "cell_type": "markdown",
      "source": [
        "# Basic LLMChain - Fact Extraction"
      ],
      "metadata": {
        "id": "vQyyZ8FiFBkD"
      }
    },
    {
      "cell_type": "code",
      "source": [
        "from langchain.prompts import PromptTemplate\n",
        "from langchain.chains import LLMChain\n",
        "from langchain.llms import OpenAI"
      ],
      "metadata": {
        "id": "4WFSPqw_Exmn"
      },
      "execution_count": 4,
      "outputs": []
    },
    {
      "cell_type": "code",
      "source": [
        "llm = OpenAI(model_name='text-davinci-003',\n",
        "             temperature=0,\n",
        "             max_tokens=256)"
      ],
      "metadata": {
        "id": "UaJYXmt1FJn3"
      },
      "execution_count": 5,
      "outputs": []
    },
    {
      "cell_type": "markdown",
      "source": [
        "### Load article on SpongeBob from CNN"
      ],
      "metadata": {
        "id": "70XtWUSJHA3Z"
      }
    },
    {
      "cell_type": "code",
      "source": [
        "article = \"\"\"\n",
        "Wall Street stocks popped at the open on Thursday, as investors weighed hotter-than-expected retail sales and wholesale price inflation data for a steer on what path the Federal Reserve will take on rates policy.\n",
        "\n",
        "The S&P 500 (^GSPC) gained 0.5%, while the Dow Jones Industrial Average (^DJI) ticked up 0.4%, or about 150 points. The Nasdaq Composite (^IXIC) added around 0.6%, as British chipmaker Arm was set to make its stock-market debut.\n",
        "\n",
        "Despite much anticipation, markets were little moved Wednesday by an uptick in the August consumer inflation report. That wouldn't be enough to prompt the Fed to change course, economists said.\n",
        "\n",
        "Thursday's reading on retail sales for the same month came in stronger than for July, underscoring how the US consumer has remained resilient despite rising interest rates. Sales grew 0.6% on the month, compared with 0.1% expected, picking up steam as people shelled out more for gas.\n",
        "\n",
        "The producer price index increased 0.7% in August, up from 0.4% the previous month, data out Thursday showed — a sign that inflation remains stubbornly persistent despite the Fed's efforts to cool pressures. But at the same time, \"core\" wholesale inflation rose 2.2%, down from July's print of 2.4%.\"\n",
        "\n",
        "Eyes will be on Arm's debut on the Nasdaq on Thursday, after the Softbank-backed chip designer priced its blockbuster IPO at the top of the range at $51 per share, for a $54.5 billion valuation.\n",
        "\n",
        "Also in focus was the ongoing rally in oil prices, given their significant effect on inflation and on stocks. WTI crude (CL=F) and Brent (BZ=F) futures were trading near 10-month highs on Thursday.\n",
        "\n",
        "Elsewhere, the European Central Bank hiked its interest rates for the 10th time in a row, to 4% — the highest level since the euro was launched in 1999. ECB policymakers also upped their inflation forecast, which they expect to remain too high for too long.\n",
        "\"\"\""
      ],
      "metadata": {
        "id": "fCQ1k5W8FQeH"
      },
      "execution_count": 19,
      "outputs": []
    },
    {
      "cell_type": "code",
      "source": [
        "fact_extraction_prompt = PromptTemplate(\n",
        "    input_variables=[\"text_input\"],\n",
        "    template=\"Extract the key facts out of this text into 10 numbered sentences. Don't include opinions. Give each fact a number. :\\n\\n {text_input}\"\n",
        ")\n"
      ],
      "metadata": {
        "id": "iBHt-hm1HETN"
      },
      "execution_count": 31,
      "outputs": []
    },
    {
      "cell_type": "code",
      "source": [
        "\n",
        "fact_extraction_chain = LLMChain(llm=llm,\n",
        "                                 prompt=fact_extraction_prompt)\n",
        "\n",
        "facts = fact_extraction_chain.run(article)\n",
        "\n",
        "print(facts)"
      ],
      "metadata": {
        "colab": {
          "base_uri": "https://localhost:8080/"
        },
        "id": "BoROLkLhHj14",
        "outputId": "6d150e12-2f1b-47ed-f89d-a453fa49a6f4"
      },
      "execution_count": 32,
      "outputs": [
        {
          "output_type": "stream",
          "name": "stdout",
          "text": [
            "\n",
            "1. Stocks popped at the open on Thursday as investors weighed hotter-than-expected retail sales and wholesale price inflation data. \n",
            "2. The S&P 500 gained 0.5%, while the Dow Jones Industrial Average ticked up 0.4%, or about 150 points. \n",
            "3. The Nasdaq Composite added around 0.6%, as British chipmaker Arm was set to make its stock-market debut.\n",
            "4. Retail sales grew 0.6% on the month in August, compared with 0.1% expected.\n",
            "5. The producer price index increased 0.7% in August, up from 0.4% the previous month.\n",
            "6. Arm priced its IPO at the top of the range at $51 per share, for a $54.5 billion valuation.\n",
            "7. WTI crude and Brent futures were trading near 10-month highs on Thursday.\n",
            "8. The European Central Bank hiked its interest rates for the 10th time in a row, to 4%.\n",
            "9. ECB policymakers also upped their inflation forecast, which they expect to remain too high for too long.\n",
            "10. Oil prices have a significant effect on inflation and on stocks.\n"
          ]
        }
      ]
    },
    {
      "cell_type": "markdown",
      "source": [
        "## Rewrite as a summary from the facts\n"
      ],
      "metadata": {
        "id": "W48mXUKNBHmd"
      }
    },
    {
      "cell_type": "code",
      "source": [
        "investor_update_prompt = PromptTemplate(\n",
        "    input_variables=[\"facts\"],\n",
        "    template=\"You are a Goldman Sachs analyst. Take the following list of facts and use them to write a short paragraph for investors, Don't leave out key info: \\n\\n {facts}\"\n",
        ")"
      ],
      "metadata": {
        "id": "tvm5XHTUJ0D9"
      },
      "execution_count": 33,
      "outputs": []
    },
    {
      "cell_type": "code",
      "source": [
        "investor_update_chain = LLMChain(llm=llm,\n",
        "                                 prompt=investor_update_prompt)\n",
        "\n",
        "investor_update = investor_update_chain.run(facts)\n",
        "\n",
        "print(investor_update)\n",
        "len(investor_update)"
      ],
      "metadata": {
        "colab": {
          "base_uri": "https://localhost:8080/"
        },
        "id": "xwa2fdQ2CAfM",
        "outputId": "bdc23f99-0e5a-42bc-977f-1e637621feff"
      },
      "execution_count": 34,
      "outputs": [
        {
          "output_type": "stream",
          "name": "stdout",
          "text": [
            "\n",
            "\n",
            "Investors were optimistic on Thursday as stocks opened higher, buoyed by better-than-expected retail sales and wholesale price inflation data. The S&P 500 gained 0.5%, while the Dow Jones Industrial Average ticked up 0.4%, or about 150 points. The Nasdaq Composite added around 0.6%, as British chipmaker Arm was set to make its stock-market debut. Retail sales grew 0.6% on the month in August, compared with 0.1% expected, and the producer price index increased 0.7% in August, up from 0.4% the previous month. Arm priced its IPO at the top of the range at $51 per share, for a $54.5 billion valuation. WTI crude and Brent futures were trading near 10-month highs on Thursday, and the European Central Bank hiked its interest rates for the 10th time in a row, to 4%. ECB policymakers also upped their inflation forecast, which they expect to remain too high for too long. Oil prices have a significant effect on inflation and on stocks, and investors are keeping a close eye on these developments.\n"
          ]
        },
        {
          "output_type": "execute_result",
          "data": {
            "text/plain": [
              "1001"
            ]
          },
          "metadata": {},
          "execution_count": 34
        }
      ]
    },
    {
      "cell_type": "code",
      "source": [
        "triples_chain = PromptTemplate(\n",
        "    input_variables=[\"facts\"],\n",
        "    template=\"Take the following list of facts and turn them into triples for a knowledge graph: \\n\\n {facts}\"\n",
        ")"
      ],
      "metadata": {
        "id": "-hLSw9fnCRdm"
      },
      "execution_count": 35,
      "outputs": []
    },
    {
      "cell_type": "code",
      "source": [
        "triples_chain = LLMChain(llm=llm,\n",
        "                         prompt=triples_chain)\n",
        "\n",
        "triples = triples_chain.run(facts)\n",
        "\n",
        "print(triples)\n",
        "len(triples)\n"
      ],
      "metadata": {
        "colab": {
          "base_uri": "https://localhost:8080/"
        },
        "id": "CTXhH0mBDKRA",
        "outputId": "6cdc0187-e060-46f2-8487-2dc83cadffd8"
      },
      "execution_count": 36,
      "outputs": [
        {
          "output_type": "stream",
          "name": "stdout",
          "text": [
            "\n",
            "\n",
            "(1) (Subject: Stocks, Predicate: popped, Object: at the open on Thursday)\n",
            "(2) (Subject: S&P 500, Predicate: gained, Object: 0.5%)\n",
            "(3) (Subject: Dow Jones Industrial Average, Predicate: ticked up, Object: 0.4%)\n",
            "(4) (Subject: Retail sales, Predicate: grew, Object: 0.6% on the month in August)\n",
            "(5) (Subject: Producer price index, Predicate: increased, Object: 0.7% in August)\n",
            "(6) (Subject: Arm, Predicate: priced, Object: IPO at the top of the range at $51 per share)\n",
            "(7) (Subject: WTI crude, Predicate: trading, Object: near 10-month highs on Thursday)\n",
            "(8) (Subject: European Central Bank, Predicate: hiked, Object: interest rates for the 10th time in a row to 4%)\n",
            "(9) (Subject: ECB policymakers, Predicate: upped, Object: inflation forecast)\n",
            "(10) (Subject: Oil prices, Predicate: have, Object: significant effect on inflation and on stocks\n"
          ]
        },
        {
          "output_type": "execute_result",
          "data": {
            "text/plain": [
              "841"
            ]
          },
          "metadata": {},
          "execution_count": 36
        }
      ]
    },
    {
      "cell_type": "markdown",
      "source": [
        "## Chaining these together\n"
      ],
      "metadata": {
        "id": "k3tO9mdDFS4o"
      }
    },
    {
      "cell_type": "code",
      "source": [
        "from langchain.chains import SimpleSequentialChain, SequentialChain\n",
        "\n",
        "full_chain = SimpleSequentialChain(chains=[fact_extraction_chain, investor_update_chain], verbose=True)\n",
        "\n",
        "full_chain.run(article)\n",
        "\n"
      ],
      "metadata": {
        "colab": {
          "base_uri": "https://localhost:8080/",
          "height": 448
        },
        "id": "CkdJIsC0EGMI",
        "outputId": "2fe2651b-e650-45fe-be49-4cf44a6d2015"
      },
      "execution_count": 44,
      "outputs": [
        {
          "output_type": "stream",
          "name": "stdout",
          "text": [
            "\n",
            "\n",
            "\u001b[1m> Entering new SimpleSequentialChain chain...\u001b[0m\n",
            "\u001b[36;1m\u001b[1;3m\n",
            "1. Stocks popped at the open on Thursday as investors weighed hotter-than-expected retail sales and wholesale price inflation data. \n",
            "2. The S&P 500 gained 0.5%, while the Dow Jones Industrial Average ticked up 0.4%, or about 150 points. \n",
            "3. The Nasdaq Composite added around 0.6%, as British chipmaker Arm was set to make its stock-market debut.\n",
            "4. Retail sales for August grew 0.6% on the month, compared with 0.1% expected.\n",
            "5. The producer price index increased 0.7% in August, up from 0.4% the previous month.\n",
            "6. Arm priced its IPO at the top of the range at $51 per share, for a $54.5 billion valuation.\n",
            "7. WTI crude and Brent futures were trading near 10-month highs on Thursday.\n",
            "8. The European Central Bank hiked its interest rates for the 10th time in a row, to 4%.\n",
            "9. ECB policymakers also upped their inflation forecast, which they expect to remain too high for too long.\n",
            "10. Oil prices have a significant effect on inflation and on stocks.\u001b[0m\n",
            "\u001b[33;1m\u001b[1;3m\n",
            "\n",
            "Thursday saw stocks open higher as investors reacted to better-than-expected retail sales and wholesale price inflation data. The S&P 500, Dow Jones Industrial Average, and Nasdaq Composite all gained, with the Nasdaq boosted by the stock-market debut of British chipmaker Arm. Retail sales for August grew 0.6%, while the producer price index increased 0.7%. Oil prices, which have a significant effect on inflation and stocks, were trading near 10-month highs, and the European Central Bank hiked its interest rates for the 10th time in a row, while also upping its inflation forecast.\u001b[0m\n",
            "\n",
            "\u001b[1m> Finished chain.\u001b[0m\n"
          ]
        },
        {
          "output_type": "execute_result",
          "data": {
            "text/plain": [
              "'\\n\\nThursday saw stocks open higher as investors reacted to better-than-expected retail sales and wholesale price inflation data. The S&P 500, Dow Jones Industrial Average, and Nasdaq Composite all gained, with the Nasdaq boosted by the stock-market debut of British chipmaker Arm. Retail sales for August grew 0.6%, while the producer price index increased 0.7%. Oil prices, which have a significant effect on inflation and stocks, were trading near 10-month highs, and the European Central Bank hiked its interest rates for the 10th time in a row, while also upping its inflation forecast.'"
            ],
            "application/vnd.google.colaboratory.intrinsic+json": {
              "type": "string"
            }
          },
          "metadata": {},
          "execution_count": 44
        }
      ]
    },
    {
      "cell_type": "markdown",
      "source": [
        "# API Chains - OpenMeteo - Weather Information\n"
      ],
      "metadata": {
        "id": "ZJMpCihjL0Um"
      }
    },
    {
      "cell_type": "code",
      "source": [
        "from langchain import OpenAI\n",
        "from langchain.chains.api.prompt import API_RESPONSE_PROMPT\n",
        "\n",
        "from langchain.chains import APIChain\n",
        "from langchain.prompts.prompt import PromptTemplate\n",
        "\n"
      ],
      "metadata": {
        "id": "Jc1ZMLchHWZv"
      },
      "execution_count": 49,
      "outputs": []
    },
    {
      "cell_type": "code",
      "source": [
        "llm = OpenAI(temperature=0,\n",
        "             max_tokens=100)\n"
      ],
      "metadata": {
        "id": "NZ7dWTL3L4Zu"
      },
      "execution_count": 50,
      "outputs": []
    },
    {
      "cell_type": "code",
      "source": [
        "from langchain import chains\n",
        "from langchain.chains.api import open_meteo_docs\n",
        "\n",
        "chain_new = APIChain.from_llm_and_api_docs(llm,\n",
        "                                           open_meteo_docs.OPEN_METEO_DOCS,\n",
        "                                           verbose=True)\n",
        "\n"
      ],
      "metadata": {
        "id": "TugnDzLZMcXr"
      },
      "execution_count": 52,
      "outputs": []
    },
    {
      "cell_type": "code",
      "source": [
        "chain_new.run('What is the temperature right now in Pasadena, California in degrees Fahrenheit?')\n"
      ],
      "metadata": {
        "colab": {
          "base_uri": "https://localhost:8080/",
          "height": 180
        },
        "id": "VyVXDYm8Mpm-",
        "outputId": "e9daed87-99cf-4551-d237-76fa02433450"
      },
      "execution_count": 53,
      "outputs": [
        {
          "output_type": "stream",
          "name": "stdout",
          "text": [
            "\n",
            "\n",
            "\u001b[1m> Entering new APIChain chain...\u001b[0m\n",
            "\u001b[32;1m\u001b[1;3mhttps://api.open-meteo.com/v1/forecast?latitude=34.147785&longitude=-118.144516&hourly=temperature_2m&temperature_unit=fahrenheit&current_weather=true\u001b[0m\n",
            "\u001b[33;1m\u001b[1;3m{\"latitude\":34.156918,\"longitude\":-118.16109,\"generationtime_ms\":0.2510547637939453,\"utc_offset_seconds\":0,\"timezone\":\"GMT\",\"timezone_abbreviation\":\"GMT\",\"elevation\":267.0,\"current_weather\":{\"temperature\":64.1,\"windspeed\":1.5,\"winddirection\":284,\"weathercode\":3,\"is_day\":1,\"time\":\"2023-09-14T14:00\"},\"hourly_units\":{\"time\":\"iso8601\",\"temperature_2m\":\"°F\"},\"hourly\":{\"time\":[\"2023-09-14T00:00\",\"2023-09-14T01:00\",\"2023-09-14T02:00\",\"2023-09-14T03:00\",\"2023-09-14T04:00\",\"2023-09-14T05:00\",\"2023-09-14T06:00\",\"2023-09-14T07:00\",\"2023-09-14T08:00\",\"2023-09-14T09:00\",\"2023-09-14T10:00\",\"2023-09-14T11:00\",\"2023-09-14T12:00\",\"2023-09-14T13:00\",\"2023-09-14T14:00\",\"2023-09-14T15:00\",\"2023-09-14T16:00\",\"2023-09-14T17:00\",\"2023-09-14T18:00\",\"2023-09-14T19:00\",\"2023-09-14T20:00\",\"2023-09-14T21:00\",\"2023-09-14T22:00\",\"2023-09-14T23:00\",\"2023-09-15T00:00\",\"2023-09-15T01:00\",\"2023-09-15T02:00\",\"2023-09-15T03:00\",\"2023-09-15T04:00\",\"2023-09-15T05:00\",\"2023-09-15T06:00\",\"2023-09-15T07:00\",\"2023-09-15T08:00\",\"2023-09-15T09:00\",\"2023-09-15T10:00\",\"2023-09-15T11:00\",\"2023-09-15T12:00\",\"2023-09-15T13:00\",\"2023-09-15T14:00\",\"2023-09-15T15:00\",\"2023-09-15T16:00\",\"2023-09-15T17:00\",\"2023-09-15T18:00\",\"2023-09-15T19:00\",\"2023-09-15T20:00\",\"2023-09-15T21:00\",\"2023-09-15T22:00\",\"2023-09-15T23:00\",\"2023-09-16T00:00\",\"2023-09-16T01:00\",\"2023-09-16T02:00\",\"2023-09-16T03:00\",\"2023-09-16T04:00\",\"2023-09-16T05:00\",\"2023-09-16T06:00\",\"2023-09-16T07:00\",\"2023-09-16T08:00\",\"2023-09-16T09:00\",\"2023-09-16T10:00\",\"2023-09-16T11:00\",\"2023-09-16T12:00\",\"2023-09-16T13:00\",\"2023-09-16T14:00\",\"2023-09-16T15:00\",\"2023-09-16T16:00\",\"2023-09-16T17:00\",\"2023-09-16T18:00\",\"2023-09-16T19:00\",\"2023-09-16T20:00\",\"2023-09-16T21:00\",\"2023-09-16T22:00\",\"2023-09-16T23:00\",\"2023-09-17T00:00\",\"2023-09-17T01:00\",\"2023-09-17T02:00\",\"2023-09-17T03:00\",\"2023-09-17T04:00\",\"2023-09-17T05:00\",\"2023-09-17T06:00\",\"2023-09-17T07:00\",\"2023-09-17T08:00\",\"2023-09-17T09:00\",\"2023-09-17T10:00\",\"2023-09-17T11:00\",\"2023-09-17T12:00\",\"2023-09-17T13:00\",\"2023-09-17T14:00\",\"2023-09-17T15:00\",\"2023-09-17T16:00\",\"2023-09-17T17:00\",\"2023-09-17T18:00\",\"2023-09-17T19:00\",\"2023-09-17T20:00\",\"2023-09-17T21:00\",\"2023-09-17T22:00\",\"2023-09-17T23:00\",\"2023-09-18T00:00\",\"2023-09-18T01:00\",\"2023-09-18T02:00\",\"2023-09-18T03:00\",\"2023-09-18T04:00\",\"2023-09-18T05:00\",\"2023-09-18T06:00\",\"2023-09-18T07:00\",\"2023-09-18T08:00\",\"2023-09-18T09:00\",\"2023-09-18T10:00\",\"2023-09-18T11:00\",\"2023-09-18T12:00\",\"2023-09-18T13:00\",\"2023-09-18T14:00\",\"2023-09-18T15:00\",\"2023-09-18T16:00\",\"2023-09-18T17:00\",\"2023-09-18T18:00\",\"2023-09-18T19:00\",\"2023-09-18T20:00\",\"2023-09-18T21:00\",\"2023-09-18T22:00\",\"2023-09-18T23:00\",\"2023-09-19T00:00\",\"2023-09-19T01:00\",\"2023-09-19T02:00\",\"2023-09-19T03:00\",\"2023-09-19T04:00\",\"2023-09-19T05:00\",\"2023-09-19T06:00\",\"2023-09-19T07:00\",\"2023-09-19T08:00\",\"2023-09-19T09:00\",\"2023-09-19T10:00\",\"2023-09-19T11:00\",\"2023-09-19T12:00\",\"2023-09-19T13:00\",\"2023-09-19T14:00\",\"2023-09-19T15:00\",\"2023-09-19T16:00\",\"2023-09-19T17:00\",\"2023-09-19T18:00\",\"2023-09-19T19:00\",\"2023-09-19T20:00\",\"2023-09-19T21:00\",\"2023-09-19T22:00\",\"2023-09-19T23:00\",\"2023-09-20T00:00\",\"2023-09-20T01:00\",\"2023-09-20T02:00\",\"2023-09-20T03:00\",\"2023-09-20T04:00\",\"2023-09-20T05:00\",\"2023-09-20T06:00\",\"2023-09-20T07:00\",\"2023-09-20T08:00\",\"2023-09-20T09:00\",\"2023-09-20T10:00\",\"2023-09-20T11:00\",\"2023-09-20T12:00\",\"2023-09-20T13:00\",\"2023-09-20T14:00\",\"2023-09-20T15:00\",\"2023-09-20T16:00\",\"2023-09-20T17:00\",\"2023-09-20T18:00\",\"2023-09-20T19:00\",\"2023-09-20T20:00\",\"2023-09-20T21:00\",\"2023-09-20T22:00\",\"2023-09-20T23:00\"],\"temperature_2m\":[78.8,75.8,71.6,68.1,66.4,65.1,63.2,63.2,63.5,64.2,64.9,65.2,65.0,64.2,64.1,64.6,65.2,67.2,70.6,75.3,79.0,80.8,78.5,77.0,74.8,71.5,67.5,65.0,63.7,63.0,62.5,62.5,62.0,61.9,61.6,61.4,61.3,60.9,60.8,60.9,61.9,63.9,67.7,72.5,76.4,79.4,79.4,77.1,74.0,70.2,65.8,63.6,63.0,62.6,62.6,62.3,62.0,61.4,60.9,60.7,60.5,66.4,66.4,67.9,70.2,72.9,75.6,77.6,79.9,82.5,82.5,81.0,78.5,76.3,73.1,71.1,69.5,68.8,68.4,68.1,68.2,68.2,67.0,66.3,66.4,66.1,65.7,67.2,69.0,71.8,74.7,77.2,79.6,81.7,82.1,79.9,77.6,76.3,73.3,71.7,70.4,69.3,68.4,67.9,67.5,67.0,66.6,66.3,65.7,65.2,64.8,66.3,67.7,70.0,72.6,75.3,77.6,79.6,79.4,78.1,76.2,74.5,71.7,70.0,69.3,68.6,67.9,67.5,67.3,67.0,66.4,65.6,65.2,64.9,64.8,65.5,67.4,70.0,72.6,75.1,77.5,79.0,79.3,78.6,77.4,75.4,72.8,70.8,69.7,69.1,68.6,68.1,67.6,67.2,66.5,65.9,65.5,65.5,65.8,66.8,69.0,71.8,74.5,77.2,79.9,81.4,81.2,79.9]}}\u001b[0m\n",
            "\n",
            "\u001b[1m> Finished chain.\u001b[0m\n"
          ]
        },
        {
          "output_type": "execute_result",
          "data": {
            "text/plain": [
              "' The temperature right now in Pasadena, California is 64.1°F.'"
            ],
            "application/vnd.google.colaboratory.intrinsic+json": {
              "type": "string"
            }
          },
          "metadata": {},
          "execution_count": 53
        }
      ]
    },
    {
      "cell_type": "code",
      "source": [
        "chain_new.run(\"Is it foggy in Pasadena, California?\")"
      ],
      "metadata": {
        "colab": {
          "base_uri": "https://localhost:8080/",
          "height": 180
        },
        "id": "eXA_OBTfMv8h",
        "outputId": "11e97efc-4d17-4999-ff27-bd7e3dc427d9"
      },
      "execution_count": 54,
      "outputs": [
        {
          "output_type": "stream",
          "name": "stdout",
          "text": [
            "\n",
            "\n",
            "\u001b[1m> Entering new APIChain chain...\u001b[0m\n",
            "\u001b[32;1m\u001b[1;3mhttps://api.open-meteo.com/v1/forecast?latitude=34.147785&longitude=-118.144516&hourly=weathercode&timezone=auto&current_weather=true\u001b[0m\n",
            "\u001b[33;1m\u001b[1;3m{\"latitude\":34.156918,\"longitude\":-118.16109,\"generationtime_ms\":0.6619691848754883,\"utc_offset_seconds\":-25200,\"timezone\":\"America/Los_Angeles\",\"timezone_abbreviation\":\"PDT\",\"elevation\":267.0,\"current_weather\":{\"temperature\":17.9,\"windspeed\":1.5,\"winddirection\":284,\"weathercode\":3,\"is_day\":1,\"time\":\"2023-09-14T07:00\"},\"hourly_units\":{\"time\":\"iso8601\",\"weathercode\":\"wmo code\"},\"hourly\":{\"time\":[\"2023-09-14T00:00\",\"2023-09-14T01:00\",\"2023-09-14T02:00\",\"2023-09-14T03:00\",\"2023-09-14T04:00\",\"2023-09-14T05:00\",\"2023-09-14T06:00\",\"2023-09-14T07:00\",\"2023-09-14T08:00\",\"2023-09-14T09:00\",\"2023-09-14T10:00\",\"2023-09-14T11:00\",\"2023-09-14T12:00\",\"2023-09-14T13:00\",\"2023-09-14T14:00\",\"2023-09-14T15:00\",\"2023-09-14T16:00\",\"2023-09-14T17:00\",\"2023-09-14T18:00\",\"2023-09-14T19:00\",\"2023-09-14T20:00\",\"2023-09-14T21:00\",\"2023-09-14T22:00\",\"2023-09-14T23:00\",\"2023-09-15T00:00\",\"2023-09-15T01:00\",\"2023-09-15T02:00\",\"2023-09-15T03:00\",\"2023-09-15T04:00\",\"2023-09-15T05:00\",\"2023-09-15T06:00\",\"2023-09-15T07:00\",\"2023-09-15T08:00\",\"2023-09-15T09:00\",\"2023-09-15T10:00\",\"2023-09-15T11:00\",\"2023-09-15T12:00\",\"2023-09-15T13:00\",\"2023-09-15T14:00\",\"2023-09-15T15:00\",\"2023-09-15T16:00\",\"2023-09-15T17:00\",\"2023-09-15T18:00\",\"2023-09-15T19:00\",\"2023-09-15T20:00\",\"2023-09-15T21:00\",\"2023-09-15T22:00\",\"2023-09-15T23:00\",\"2023-09-16T00:00\",\"2023-09-16T01:00\",\"2023-09-16T02:00\",\"2023-09-16T03:00\",\"2023-09-16T04:00\",\"2023-09-16T05:00\",\"2023-09-16T06:00\",\"2023-09-16T07:00\",\"2023-09-16T08:00\",\"2023-09-16T09:00\",\"2023-09-16T10:00\",\"2023-09-16T11:00\",\"2023-09-16T12:00\",\"2023-09-16T13:00\",\"2023-09-16T14:00\",\"2023-09-16T15:00\",\"2023-09-16T16:00\",\"2023-09-16T17:00\",\"2023-09-16T18:00\",\"2023-09-16T19:00\",\"2023-09-16T20:00\",\"2023-09-16T21:00\",\"2023-09-16T22:00\",\"2023-09-16T23:00\",\"2023-09-17T00:00\",\"2023-09-17T01:00\",\"2023-09-17T02:00\",\"2023-09-17T03:00\",\"2023-09-17T04:00\",\"2023-09-17T05:00\",\"2023-09-17T06:00\",\"2023-09-17T07:00\",\"2023-09-17T08:00\",\"2023-09-17T09:00\",\"2023-09-17T10:00\",\"2023-09-17T11:00\",\"2023-09-17T12:00\",\"2023-09-17T13:00\",\"2023-09-17T14:00\",\"2023-09-17T15:00\",\"2023-09-17T16:00\",\"2023-09-17T17:00\",\"2023-09-17T18:00\",\"2023-09-17T19:00\",\"2023-09-17T20:00\",\"2023-09-17T21:00\",\"2023-09-17T22:00\",\"2023-09-17T23:00\",\"2023-09-18T00:00\",\"2023-09-18T01:00\",\"2023-09-18T02:00\",\"2023-09-18T03:00\",\"2023-09-18T04:00\",\"2023-09-18T05:00\",\"2023-09-18T06:00\",\"2023-09-18T07:00\",\"2023-09-18T08:00\",\"2023-09-18T09:00\",\"2023-09-18T10:00\",\"2023-09-18T11:00\",\"2023-09-18T12:00\",\"2023-09-18T13:00\",\"2023-09-18T14:00\",\"2023-09-18T15:00\",\"2023-09-18T16:00\",\"2023-09-18T17:00\",\"2023-09-18T18:00\",\"2023-09-18T19:00\",\"2023-09-18T20:00\",\"2023-09-18T21:00\",\"2023-09-18T22:00\",\"2023-09-18T23:00\",\"2023-09-19T00:00\",\"2023-09-19T01:00\",\"2023-09-19T02:00\",\"2023-09-19T03:00\",\"2023-09-19T04:00\",\"2023-09-19T05:00\",\"2023-09-19T06:00\",\"2023-09-19T07:00\",\"2023-09-19T08:00\",\"2023-09-19T09:00\",\"2023-09-19T10:00\",\"2023-09-19T11:00\",\"2023-09-19T12:00\",\"2023-09-19T13:00\",\"2023-09-19T14:00\",\"2023-09-19T15:00\",\"2023-09-19T16:00\",\"2023-09-19T17:00\",\"2023-09-19T18:00\",\"2023-09-19T19:00\",\"2023-09-19T20:00\",\"2023-09-19T21:00\",\"2023-09-19T22:00\",\"2023-09-19T23:00\",\"2023-09-20T00:00\",\"2023-09-20T01:00\",\"2023-09-20T02:00\",\"2023-09-20T03:00\",\"2023-09-20T04:00\",\"2023-09-20T05:00\",\"2023-09-20T06:00\",\"2023-09-20T07:00\",\"2023-09-20T08:00\",\"2023-09-20T09:00\",\"2023-09-20T10:00\",\"2023-09-20T11:00\",\"2023-09-20T12:00\",\"2023-09-20T13:00\",\"2023-09-20T14:00\",\"2023-09-20T15:00\",\"2023-09-20T16:00\",\"2023-09-20T17:00\",\"2023-09-20T18:00\",\"2023-09-20T19:00\",\"2023-09-20T20:00\",\"2023-09-20T21:00\",\"2023-09-20T22:00\",\"2023-09-20T23:00\"],\"weathercode\":[3,45,45,3,45,45,3,3,3,3,2,1,0,0,0,0,0,0,0,0,0,0,1,1,3,3,3,45,45,45,45,45,45,3,3,2,1,0,0,0,0,0,0,0,0,1,2,3,3,3,3,45,45,45,0,0,0,0,0,0,0,0,0,0,0,0,0,0,0,0,0,0,0,0,0,0,0,0,0,0,0,0,0,0,0,0,0,0,0,0,0,0,0,0,3,3,3,3,3,0,0,0,0,0,0,0,0,0,0,0,0,0,0,0,0,0,2,0,0,0,1,2,3,3,3,3,3,3,3,3,3,3,3,3,2,2,2,2,1,1,0,0,0,0,0,1,1,1,0,0,0,0,0,0,0,0,0,0,0,0,0,0,0,0,0,0,0,0]}}\u001b[0m\n",
            "\n",
            "\u001b[1m> Finished chain.\u001b[0m\n"
          ]
        },
        {
          "output_type": "execute_result",
          "data": {
            "text/plain": [
              "' The current weather conditions in Pasadena, California are 17.9°C with a windspeed of 1.5 km/h and a weathercode of 3, which indicates fog.'"
            ],
            "application/vnd.google.colaboratory.intrinsic+json": {
              "type": "string"
            }
          },
          "metadata": {},
          "execution_count": 54
        }
      ]
    },
    {
      "cell_type": "code",
      "source": [],
      "metadata": {
        "id": "Q-tz6vWbNFBd"
      },
      "execution_count": null,
      "outputs": []
    }
  ]
}