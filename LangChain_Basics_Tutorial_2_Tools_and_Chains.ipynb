{
  "nbformat": 4,
  "nbformat_minor": 0,
  "metadata": {
    "colab": {
      "provenance": [],
      "authorship_tag": "ABX9TyNzE4J7ZEt2Mm6ZvB6Fsm+5",
      "include_colab_link": true
    },
    "kernelspec": {
      "name": "python3",
      "display_name": "Python 3"
    },
    "language_info": {
      "name": "python"
    }
  },
  "cells": [
    {
      "cell_type": "markdown",
      "metadata": {
        "id": "view-in-github",
        "colab_type": "text"
      },
      "source": [
        "<a href=\"https://colab.research.google.com/github/nbeaudoin/LangChain-Experimentation-Zone/blob/main/LangChain_Basics_Tutorial_2_Tools_and_Chains.ipynb\" target=\"_parent\"><img src=\"https://colab.research.google.com/assets/colab-badge.svg\" alt=\"Open In Colab\"/></a>"
      ]
    },
    {
      "cell_type": "markdown",
      "source": [
        "# Setup"
      ],
      "metadata": {
        "id": "Z7vZeqzwEyef"
      }
    },
    {
      "cell_type": "code",
      "execution_count": 1,
      "metadata": {
        "colab": {
          "base_uri": "https://localhost:8080/"
        },
        "id": "SddJv1w55URT",
        "outputId": "dcd6884f-f1ea-45b8-e63f-a60b3fc95a13"
      },
      "outputs": [
        {
          "output_type": "stream",
          "name": "stdout",
          "text": [
            "\u001b[2K     \u001b[90m━━━━━━━━━━━━━━━━━━━━━━━━━━━━━━━━━━━━━━━━\u001b[0m \u001b[32m76.5/76.5 kB\u001b[0m \u001b[31m1.2 MB/s\u001b[0m eta \u001b[36m0:00:00\u001b[0m\n",
            "\u001b[2K     \u001b[90m━━━━━━━━━━━━━━━━━━━━━━━━━━━━━━━━━━━━━━━━\u001b[0m \u001b[32m1.7/1.7 MB\u001b[0m \u001b[31m28.3 MB/s\u001b[0m eta \u001b[36m0:00:00\u001b[0m\n",
            "\u001b[2K     \u001b[90m━━━━━━━━━━━━━━━━━━━━━━━━━━━━━━━━━━━━━━\u001b[0m \u001b[32m294.8/294.8 kB\u001b[0m \u001b[31m30.9 MB/s\u001b[0m eta \u001b[36m0:00:00\u001b[0m\n",
            "\u001b[2K     \u001b[90m━━━━━━━━━━━━━━━━━━━━━━━━━━━━━━━━━━━━━━━━\u001b[0m \u001b[32m49.4/49.4 kB\u001b[0m \u001b[31m5.1 MB/s\u001b[0m eta \u001b[36m0:00:00\u001b[0m\n",
            "\u001b[?25hCollecting python-dotenv\n",
            "  Downloading python_dotenv-1.0.0-py3-none-any.whl (19 kB)\n",
            "Installing collected packages: python-dotenv\n",
            "Successfully installed python-dotenv-1.0.0\n",
            "Mounted at /content/drive\n"
          ]
        }
      ],
      "source": [
        "!pip -q install openai langchain huggingface_hub\n",
        "!pip install python-dotenv\n",
        "\n",
        "# Mount Google Drive\n",
        "\n",
        "from google.colab import drive\n",
        "drive.mount('/content/drive')\n",
        "\n",
        "import os\n",
        "from dotenv import load_dotenv\n",
        "\n",
        "# Load variables from .env file\n",
        "load_dotenv('/content/drive/MyDrive/secrets.json')\n",
        "\n",
        "# Use variables\n",
        "openai_api = os.getenv('OPENAI_API_KEY')\n",
        "huggingface_api = os.getenv('HUGGINGFACE_API_KEY')\n"
      ]
    },
    {
      "cell_type": "markdown",
      "source": [
        "# Basic LLMChain - Fact Extraction"
      ],
      "metadata": {
        "id": "vQyyZ8FiFBkD"
      }
    },
    {
      "cell_type": "code",
      "source": [
        "from langchain.prompts import PromptTemplate\n",
        "from langchain.chains import LLMChain\n",
        "from langchain.llms import OpenAI"
      ],
      "metadata": {
        "id": "4WFSPqw_Exmn"
      },
      "execution_count": 2,
      "outputs": []
    },
    {
      "cell_type": "code",
      "source": [
        "llm = OpenAI(model_name='text-davinci-003',\n",
        "             temperature=0,\n",
        "             max_tokens=256)"
      ],
      "metadata": {
        "id": "UaJYXmt1FJn3"
      },
      "execution_count": 4,
      "outputs": []
    },
    {
      "cell_type": "markdown",
      "source": [
        "### Load article on SpongeBob from CNN"
      ],
      "metadata": {
        "id": "70XtWUSJHA3Z"
      }
    },
    {
      "cell_type": "code",
      "source": [
        "article =  '''\n",
        "It’s been 20 years, and the little sponge who lives in a pineapple under the sea still resonates with people around the world.\n",
        "The Nickelodeon cartoon “SpongeBob SquarePants,” created by the late Stephen Hillenburg, features a nasally yellow sea sponge filled with bubbly optimism even in some of the most absurd situations.\n",
        "Since its debut on May 1, 1999, the syndicated children’s show has become a fixture in pop culture, especially among millennials.\n",
        "ADVERTISING\n",
        "From endless memes to giant parade balloons to the Super Bowl, the franchise, with more than 200 episodes and counting, has found a way to keep the spirit of SpongeBob SquarePants alive.\n",
        "\n",
        "ADVERTISEMENT\n",
        "While the character’s mass appeal has surprised some critics, SpongeBob’s millennial fanbase, now grown-up adults, took away messages on friendship, honesty and finding the courage to be yourself.\n",
        "Here are just seven life lessons that influenced a generation.\n",
        "You can do whatever you set your mind to\n",
        "\n",
        "\n",
        "Starting from the day he barges into the successful restaurant known as the Krusty Krab, SpongeBob is ready to take on any task — even if it involves flipping patties behind the fry cooker.\n",
        "He chants over and over and over again, “I’m ready! I’m ready! I’m ready!”\n",
        "And when orders start piling up and the job feels overwhelming, SpongeBob perseveres and saves the day.\n",
        "His not-so-secret secret is not letting other people’s doubts discourage him from what he wants to do.\n",
        "SpongeBob believes in himself, and it shows every time we see him wake up loud and proud each morning.\n",
        "Be kind to everyone but not to the point of death\n",
        "\n",
        "\n",
        "SpongeBob always has people’s best interests in mind. Perhaps, too much at times.\n",
        "SpongeBob can admittedly be overly eager, including when he tries to help an elderly woman quickly cross the street. But he has the best intentions.\n",
        "Some days, SpongeBob wakes up and sets a goal to complete a series of random acts of kindness just to be someone else’s hero. On other days, our yellow friend wants to be the change he wanted to see in the world and inspire his friends to do the same.\n",
        "But no matter how he’s feeling on a given day, SpongeBob doesn’t discriminate against who should be treated with kindness and respect.\n",
        "Everyone is equal.\n",
        "You can’t spell ‘fun’ without friends\n",
        "\n",
        "\n",
        "SpongeBob considers just about everyone in Bikini Bottom his friend. But there was never a doubt that Patrick, the pink starfish, has and will always be SpongeBob’s best friend.\n",
        "The two go on fun adventures, laughing at themselves as they make memories along the way.\n",
        "And that’s what friends are for: having fun.\n",
        "SpongeBob is so adamant about this that he devotes an entire song to help people remember.\n",
        "“‘F’ is for friends who do stuff together. ‘U’ is for you and me. ‘N’ is for anywhere and anytime at all down here in the deep blue sea.”\n",
        "Own your mistakes, no matter the consequences\n",
        "\n",
        "nickelodeon/from youtube\n",
        "People aren’t perfect, and that includes SpongeBob.\n",
        "He’s accidentally splatted a drop of paint on Mr. Krabs’ most prized possession. He’s gotten orders at the Krusty Krab wrong.\n",
        "Mistakes happen.\n",
        "But every time SpongeBob realizes that he has made a mistake, he fesses up and apologizes.\n",
        "Sure, people are upset in the beginning, but you know what happens in the end? People forgive him because he tells the truth.\n",
        "And in some cases, our truth is the only value we have left that can give us a second chance at redemption.\n",
        "Our identities shouldn’t be made into jokes\n",
        "\n",
        "\n",
        "As much as there is to learn from SpongeBob about what to do, there is an equal amount to learn about what not to do.\n",
        "When his stand-up comedy gig begins tanking, SpongeBob stoops to a new low as he makes squirrel jokes to get the audience to laugh.\n",
        "But his friend Sandy, a squirrel in the crowd, doesn’t find these jokes funny but rather hurtful, especially hearing them from a friend she is there to support.\n",
        "SpongeBob learns to value his friends’ feelings and not use their pain to further his success.\n",
        "Find positivity in everything you do\n",
        "\n",
        "nickelodeon/from youtube\n",
        "Not everyone SpongeBob meets is as jolly as he is.\n",
        "His neighbor and co-worker, Squidward, is a persistent grouch. Plankton, the business rival of Mr. Krabs, is always plotting ways to take down the Krusty Krab.\n",
        "But even faced with sour characters, SpongeBob stays true to himself and lets his spirit shine.\n",
        "And eventually, SpongeBob’s infectious positivity catches on.\n",
        "Not being cool can actually be very cool\n",
        "\n",
        "\n",
        "SpongeBob is not like everyone else.\n",
        "He has a pet snail named Gary whom he talks to all the time. His red tie, brown shorts and black shoes with tube socks give him a quirky look. He encourages people to use their imagination as if it’s some internal, cosmic experience.\n",
        "When he tries to be someone he isn’t – a muscular beach volleyball player or a popular socialite – his friends hardly recognize him. And that’s usually when SpongeBob realizes pretending to be someone else isn’t worth it.\n",
        "Being your authentic self is easier, and the reward of having genuine friends who appreciate it is far greater.\n",
        "\n",
        "'''"
      ],
      "metadata": {
        "id": "fCQ1k5W8FQeH"
      },
      "execution_count": 5,
      "outputs": []
    },
    {
      "cell_type": "code",
      "source": [
        "fact_extraction_prompt = PromptTemplate(\n",
        "    input_variables=[\"text_input\"],\n",
        "    template=\"Extract the key facts out of this text. Don't include opinions. Give each fact a number. :\\n\\n {text_input}\"\n",
        ")\n"
      ],
      "metadata": {
        "id": "iBHt-hm1HETN"
      },
      "execution_count": 8,
      "outputs": []
    },
    {
      "cell_type": "code",
      "source": [
        "fact_extraction_chain = LLMChain(llm=llm,\n",
        "                                 prompt=fact_extraction_prompt)\n",
        "\n",
        "facts = fact_extraction_chain.run(article)\n",
        "\n",
        "print(facts)"
      ],
      "metadata": {
        "colab": {
          "base_uri": "https://localhost:8080/"
        },
        "id": "BoROLkLhHj14",
        "outputId": "696c6015-8a96-44bb-f867-ae69d6c67ea6"
      },
      "execution_count": 9,
      "outputs": [
        {
          "output_type": "stream",
          "name": "stdout",
          "text": [
            "\n",
            "1. SpongeBob SquarePants has been a fixture in pop culture since its debut on May 1, 1999.\n",
            "2. The franchise has more than 200 episodes and counting.\n",
            "3. SpongeBob's millennial fanbase took away messages on friendship, honesty and finding the courage to be yourself.\n",
            "4. SpongeBob believes in himself and is ready to take on any task.\n",
            "5. SpongeBob is kind to everyone and values their feelings.\n",
            "6. SpongeBob and Patrick have fun adventures and SpongeBob believes in the importance of friendship.\n",
            "7. SpongeBob owns his mistakes and apologizes for them.\n",
            "8. SpongeBob learns not to make jokes at the expense of his friends.\n",
            "9. SpongeBob finds positivity in everything he does.\n",
            "10. SpongeBob learns that being his authentic self is easier and more rewarding.\n"
          ]
        }
      ]
    },
    {
      "cell_type": "code",
      "source": [],
      "metadata": {
        "id": "tvm5XHTUJ0D9"
      },
      "execution_count": null,
      "outputs": []
    }
  ]
}