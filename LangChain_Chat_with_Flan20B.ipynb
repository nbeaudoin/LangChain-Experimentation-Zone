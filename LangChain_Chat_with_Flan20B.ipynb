{
  "nbformat": 4,
  "nbformat_minor": 0,
  "metadata": {
    "colab": {
      "provenance": [],
      "authorship_tag": "ABX9TyNJQZmFFzCilq1J0JNXVmIg",
      "include_colab_link": true
    },
    "kernelspec": {
      "name": "python3",
      "display_name": "Python 3"
    },
    "language_info": {
      "name": "python"
    }
  },
  "cells": [
    {
      "cell_type": "markdown",
      "metadata": {
        "id": "view-in-github",
        "colab_type": "text"
      },
      "source": [
        "<a href=\"https://colab.research.google.com/github/nbeaudoin/LangChain-Experimentation-Zone/blob/main/LangChain_Chat_with_Flan20B.ipynb\" target=\"_parent\"><img src=\"https://colab.research.google.com/assets/colab-badge.svg\" alt=\"Open In Colab\"/></a>"
      ]
    },
    {
      "cell_type": "markdown",
      "source": [
        "Tutorial Source: https://www.youtube.com/watch?v=VW5LBavIfY4&list=PL8motc6AQftk1Bs42EW45kwYbyJ4jOdiZ&index=5"
      ],
      "metadata": {
        "id": "dG8IPWStpq2z"
      }
    },
    {
      "cell_type": "markdown",
      "source": [
        "Finetuned LAnguage Net (FLAN)"
      ],
      "metadata": {
        "id": "MiwW-t0PuWCH"
      }
    },
    {
      "cell_type": "code",
      "execution_count": 3,
      "metadata": {
        "colab": {
          "base_uri": "https://localhost:8080/"
        },
        "id": "YNutW6gzpg4d",
        "outputId": "0dba0f8d-7a96-4bd2-b10e-e76886da7fda"
      },
      "outputs": [
        {
          "output_type": "stream",
          "name": "stdout",
          "text": [
            "Drive already mounted at /content/drive; to attempt to forcibly remount, call drive.mount(\"/content/drive\", force_remount=True).\n"
          ]
        }
      ],
      "source": [
        "!pip -q install openai python-dotenv langchain transformers huggingface\n",
        "import os\n",
        "import openai\n",
        "from dotenv import load_dotenv\n",
        "\n",
        "from google.colab import drive\n",
        "drive.mount('/content/drive')"
      ]
    },
    {
      "cell_type": "code",
      "source": [
        "# Load variables from .env file\n",
        "load_dotenv('/content/drive/MyDrive/Projects/keys/secrets.json')\n",
        "\n",
        "# Use variables\n",
        "huggingface_api = os.getenv('HUGGINGFACE_API_KEY')"
      ],
      "metadata": {
        "id": "z6HSyo1JqyxB"
      },
      "execution_count": null,
      "outputs": []
    },
    {
      "cell_type": "code",
      "source": [
        "from langchain.llms import HuggingFaceHub"
      ],
      "metadata": {
        "id": "lwQEg5z9p6HF"
      },
      "execution_count": null,
      "outputs": []
    },
    {
      "cell_type": "code",
      "source": [
        "flan_ul2 = HuggingFaceHub(\n",
        "    repo_id=\"google/flan-ul2\",\n",
        "    huggingfacehub_api_token=huggingface_api,\n",
        "    model_kwargs={\"temperature\":0.1,\n",
        "                  \"max_new_tokens\":256}\n",
        ")"
      ],
      "metadata": {
        "id": "gPJb6pU6qC7V"
      },
      "execution_count": null,
      "outputs": []
    },
    {
      "cell_type": "code",
      "source": [
        "flan_T5 = HuggingFaceHub(\n",
        "    repo_id=\"google/flan-t5-xl\",\n",
        "    huggingfacehub_api_token=huggingface_api,\n",
        "    model_kwargs={\"temperature\":0}\n",
        ")"
      ],
      "metadata": {
        "id": "_dvbsQjjstVE"
      },
      "execution_count": null,
      "outputs": []
    },
    {
      "cell_type": "code",
      "source": [
        "from langchain.chains.conversation.memory import ConversationBufferMemory\n",
        "from langchain.chains import ConversationChain"
      ],
      "metadata": {
        "id": "mOcusi6hs6tU"
      },
      "execution_count": null,
      "outputs": []
    },
    {
      "cell_type": "code",
      "source": [
        "memory = ConversationBufferMemory()"
      ],
      "metadata": {
        "id": "lVgEWtg7tCxL"
      },
      "execution_count": null,
      "outputs": []
    },
    {
      "cell_type": "code",
      "source": [
        "conversation = ConversationChain(\n",
        "    llm=flan_ul2,\n",
        "    verbose=True,\n",
        "    memory=memory\n",
        ")"
      ],
      "metadata": {
        "id": "VaXJ13S1tE0h"
      },
      "execution_count": null,
      "outputs": []
    },
    {
      "cell_type": "code",
      "source": [
        "conversation.predict(input=\"Hi there! I am Sam\")"
      ],
      "metadata": {
        "id": "ptfjAvFbtKYa"
      },
      "execution_count": null,
      "outputs": []
    },
    {
      "cell_type": "code",
      "source": [
        "conversation.predict(input=\"How are you today?\")"
      ],
      "metadata": {
        "id": "rSBGLTBotqAn"
      },
      "execution_count": null,
      "outputs": []
    },
    {
      "cell_type": "markdown",
      "source": [
        "## Counting the tokens"
      ],
      "metadata": {
        "id": "KibBlG2oWulf"
      }
    },
    {
      "cell_type": "code",
      "source": [
        "from transformers import AutoTokenizer\n",
        "tokenizer = AutoTokenizer.from_pretrained(\"google/flan-ul2\")"
      ],
      "metadata": {
        "id": "nyhkcnustxzT"
      },
      "execution_count": null,
      "outputs": []
    },
    {
      "cell_type": "code",
      "source": [
        "test_input = \"Now Good Morning Ms Rogers\"\n",
        "tokenizer([test_input])\n",
        "tokenizer.tokenize(test_input)"
      ],
      "metadata": {
        "id": "293CZIIQWb6H"
      },
      "execution_count": null,
      "outputs": []
    },
    {
      "cell_type": "code",
      "source": [
        "memory.buffer"
      ],
      "metadata": {
        "id": "C4KKl81XYFsG"
      },
      "execution_count": null,
      "outputs": []
    },
    {
      "cell_type": "code",
      "source": [
        "formatted_prompt = conversation.prompt.format(input='the next input', history=memory.buffer)\n",
        "formatted_prompt"
      ],
      "metadata": {
        "id": "rGvxkqU9YKwP"
      },
      "execution_count": null,
      "outputs": []
    },
    {
      "cell_type": "code",
      "source": [
        "def chat_to_llm(chat_llm):\n",
        "  conversation_total_tokens = 0\n",
        "  new_conversation = ConversationChain(llm=chat_llm,\n",
        "                                       verbose=False,\n",
        "                                       memory=ConversationBufferMemory())\n",
        "\n",
        "  while True:\n",
        "    message = input(\"Human: \")\n",
        "    if message == 'exit':\n",
        "      print(f\"{conversation_total_tokens} tokens used in total in this conversation\")\n",
        "      break\n",
        "    if message:\n",
        "      formatted_prompt = conversation.prompt.format(input=message, history=memory.buffer)\n",
        "      num_tokens = len(tokenizer.tokenize(formatted_prompt))\n",
        "      conversation_total_tokens += num_tokens\n",
        "      print(f\"tokens sent {num_tokens}\")\n",
        "      response = new_conversation.predict(input=message)\n",
        "      response_num_tokens = len(tokenizer.tokenize(response))\n",
        "      conversation_total_tokens += response_num_tokens\n",
        "      print(f\"LLM: {response}\")"
      ],
      "metadata": {
        "id": "PUGIYmmeYRFD"
      },
      "execution_count": null,
      "outputs": []
    },
    {
      "cell_type": "code",
      "source": [
        "chat_to_llm(flan_ul2)"
      ],
      "metadata": {
        "id": "O1j7oGrfeq6p"
      },
      "execution_count": null,
      "outputs": []
    },
    {
      "cell_type": "code",
      "source": [
        "chat_to_llm(flan_T5)"
      ],
      "metadata": {
        "id": "7hDTXvyue1JD"
      },
      "execution_count": null,
      "outputs": []
    },
    {
      "cell_type": "code",
      "source": [],
      "metadata": {
        "id": "Sl_vPULIfyj1"
      },
      "execution_count": null,
      "outputs": []
    }
  ]
}